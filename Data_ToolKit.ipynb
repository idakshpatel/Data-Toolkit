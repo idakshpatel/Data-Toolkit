{
  "nbformat": 4,
  "nbformat_minor": 0,
  "metadata": {
    "colab": {
      "provenance": []
    },
    "kernelspec": {
      "name": "python3",
      "display_name": "Python 3"
    },
    "language_info": {
      "name": "python"
    }
  },
  "cells": [
    {
      "cell_type": "code",
      "execution_count": 4,
      "metadata": {
        "colab": {
          "base_uri": "https://localhost:8080/",
          "height": 226
        },
        "id": "qKyN-yvWq7Ve",
        "outputId": "128aa59e-a092-4bd4-83aa-bca55acdb94b"
      },
      "outputs": [
        {
          "output_type": "stream",
          "name": "stdout",
          "text": [
            "Method 1 Output:\n",
            "[[1 2 3]\n",
            " [4 5 6]]\n",
            "\n",
            "Method 2 Output:\n",
            "[[1. 2. 3.]\n",
            " [4. 5. 6.]]\n",
            "\n",
            "Method 3 Output:\n",
            "[[1 2 3]\n",
            " [4 5 6]]\n"
          ]
        },
        {
          "output_type": "execute_result",
          "data": {
            "text/plain": [
              "'\\n[[1 2 3]\\n [4 5 6]]\\n\\n#Method 2 Output:\\n[[1 2 3]\\n [4 5 6]]\\n\\n#Method 3 Output:\\n[[1 2 3]\\n [4 5 6]]\\n'"
            ],
            "application/vnd.google.colaboratory.intrinsic+json": {
              "type": "string"
            }
          },
          "metadata": {},
          "execution_count": 4
        }
      ],
      "source": [
        "'''Demonstrate three different methods for creating identical 2D arrays in NumPy. Provide the code for each\n",
        "   method and the final output after each method.'''\n",
        "\n",
        "import numpy as np\n",
        "\n",
        "# Method 1: Using np.array()\n",
        "arr1 = np.array([[1, 2, 3], [4, 5, 6]])\n",
        "print(\"Method 1 Output:\")\n",
        "print(arr1)\n",
        "# Method 2: Using np.ones() and multiplying to create identical array\n",
        "arr2 = np.ones((2, 3)) * np.array([[1, 2, 3], [4, 5, 6]])\n",
        "print(\"\\nMethod 2 Output:\")\n",
        "print(arr2)\n",
        "# Method 3: Using np.full() to create an identical array\n",
        "arr3 = np.full((2, 3), [[1, 2, 3], [4, 5, 6]])\n",
        "print(\"\\nMethod 3 Output:\")\n",
        "print(arr3)\n",
        "#Method 1 Output:\n",
        "'''\n",
        "[[1 2 3]\n",
        " [4 5 6]]\n",
        "\n",
        "#Method 2 Output:\n",
        "[[1 2 3]\n",
        " [4 5 6]]\n",
        "\n",
        "#Method 3 Output:\n",
        "[[1 2 3]\n",
        " [4 5 6]]\n",
        "'''\n"
      ]
    },
    {
      "cell_type": "code",
      "source": [
        "'''2. Using the Numpy function, generate an array of 100 evenly spaced numbers between 1 and IO and\n",
        "Reshape that ID array into a 2D array.'''\n",
        "\n",
        "# Generating 100 evenly spaced numbers between 1 and 10\n",
        "arr = np.linspace(1, 10, 100)\n",
        "\n",
        "# Reshaping the 1D array into a 2D array of shape (10, 10)\n",
        "reshaped_arr = arr.reshape((10, 10))\n",
        "print(\"Reshaped Array:\")\n",
        "print(reshaped_arr)\n"
      ],
      "metadata": {
        "colab": {
          "base_uri": "https://localhost:8080/"
        },
        "id": "GBFII-SBsLAa",
        "outputId": "e09c36f5-c2f4-4793-c1d7-95b406798346"
      },
      "execution_count": 5,
      "outputs": [
        {
          "output_type": "stream",
          "name": "stdout",
          "text": [
            "Reshaped Array:\n",
            "[[ 1.          1.09090909  1.18181818  1.27272727  1.36363636  1.45454545\n",
            "   1.54545455  1.63636364  1.72727273  1.81818182]\n",
            " [ 1.90909091  2.          2.09090909  2.18181818  2.27272727  2.36363636\n",
            "   2.45454545  2.54545455  2.63636364  2.72727273]\n",
            " [ 2.81818182  2.90909091  3.          3.09090909  3.18181818  3.27272727\n",
            "   3.36363636  3.45454545  3.54545455  3.63636364]\n",
            " [ 3.72727273  3.81818182  3.90909091  4.          4.09090909  4.18181818\n",
            "   4.27272727  4.36363636  4.45454545  4.54545455]\n",
            " [ 4.63636364  4.72727273  4.81818182  4.90909091  5.          5.09090909\n",
            "   5.18181818  5.27272727  5.36363636  5.45454545]\n",
            " [ 5.54545455  5.63636364  5.72727273  5.81818182  5.90909091  6.\n",
            "   6.09090909  6.18181818  6.27272727  6.36363636]\n",
            " [ 6.45454545  6.54545455  6.63636364  6.72727273  6.81818182  6.90909091\n",
            "   7.          7.09090909  7.18181818  7.27272727]\n",
            " [ 7.36363636  7.45454545  7.54545455  7.63636364  7.72727273  7.81818182\n",
            "   7.90909091  8.          8.09090909  8.18181818]\n",
            " [ 8.27272727  8.36363636  8.45454545  8.54545455  8.63636364  8.72727273\n",
            "   8.81818182  8.90909091  9.          9.09090909]\n",
            " [ 9.18181818  9.27272727  9.36363636  9.45454545  9.54545455  9.63636364\n",
            "   9.72727273  9.81818182  9.90909091 10.        ]]\n"
          ]
        }
      ]
    },
    {
      "cell_type": "code",
      "source": [
        "'''\n",
        "3. Explain the following terms:\n",
        "• The difference in np.array, np.asarray and np.asanyarray.\n",
        "• The difference between Deep copy and shallow copy.\n",
        "'''\n",
        "\n",
        "\n",
        "#ANSWER\n",
        "\n",
        "'''\n",
        "np.array(), np.asarray(), and np.asanyarray():\n",
        "np.array(): Creates a new NumPy array. If the input is already an array, a new copy is made unless specified otherwise with the copy=False argument.\n",
        "\n",
        "np.asarray(): Converts the input to an array, but does not copy the data if the input is already a NumPy array. It is more efficient than np.array() when you don't want to make a copy.\n",
        "\n",
        "np.asanyarray(): Similar to np.asarray(), but it won't force the conversion of inputs that are subclasses of ndarray. For example, if the input is a matrix subclass, it will remain a matrix.\n",
        "\n",
        "Deep Copy vs Shallow Copy:\n",
        "Shallow Copy: A shallow copy creates a new object, but it only copies references to the original objects (i.e., changes in the original object will affect the shallow copy).\n",
        "\n",
        "Deep Copy: A deep copy creates a completely new object and recursively copies all objects it references. Changes in the original object will not affect the deep copy.\n",
        "'''\n",
        "\n",
        "import copy\n",
        "\n",
        "# Example of shallow and deep copy\n",
        "arr = np.array([1, 2, 3])\n",
        "shallow_copy = arr\n",
        "deep_copy = np.copy(arr)\n",
        "\n",
        "# Changes in arr affect shallow_copy but not deep_copy\n",
        "arr[0] = 100\n",
        "print(\"Shallow Copy:\", shallow_copy)  # Output reflects the change\n",
        "print(\"Deep Copy:\", deep_copy)        # Output doesn't reflect the change\n",
        "\n",
        "\n",
        "\n"
      ],
      "metadata": {
        "colab": {
          "base_uri": "https://localhost:8080/"
        },
        "id": "p2ClRsqbssmW",
        "outputId": "066bddb3-bea4-49b9-dd84-d095f87d0b79"
      },
      "execution_count": 6,
      "outputs": [
        {
          "output_type": "stream",
          "name": "stdout",
          "text": [
            "Shallow Copy: [100   2   3]\n",
            "Deep Copy: [1 2 3]\n"
          ]
        }
      ]
    },
    {
      "cell_type": "code",
      "source": [
        "'''\n",
        "4. Generate a 3x3 array with random floating-point numbers between 5 and 20. Then, round each number in\n",
        "the array to 2 decimal places.\n",
        "'''\n",
        "#ANSWER\n",
        "\n",
        "# Generating a 3x3 array with random floating-point numbers between 5 and 20\n",
        "random_array = np.random.uniform(5, 20, (3, 3))\n",
        "\n",
        "# Rounding each number in the array to 2 decimal places\n",
        "rounded_array = np.round(random_array, 2)\n",
        "print(\"3x3 Random Array with Floats Rounded to 2 Decimal Places:\")\n",
        "print(rounded_array)\n"
      ],
      "metadata": {
        "colab": {
          "base_uri": "https://localhost:8080/"
        },
        "id": "7zD0qw0Wt8Kc",
        "outputId": "5e7a29d3-198f-474c-d8ea-a99f27898947"
      },
      "execution_count": 7,
      "outputs": [
        {
          "output_type": "stream",
          "name": "stdout",
          "text": [
            "3x3 Random Array with Floats Rounded to 2 Decimal Places:\n",
            "[[17.    6.12  6.53]\n",
            " [13.69  7.3  15.95]\n",
            " [16.96  5.95  5.08]]\n"
          ]
        }
      ]
    },
    {
      "cell_type": "code",
      "source": [
        "'''\n",
        "5. Create a NumPy array with random integers between 1 and 10 of shape (5, 6). After creating the array\n",
        "perform the following operations:\n",
        "a)Extract all even integers from array.\n",
        "b)Extract all odd integers from array.\n",
        "'''\n",
        "#ANSWER\n",
        "\n",
        "\n",
        "\n",
        "\n",
        "import numpy as np\n",
        "\n",
        "# Creating a (5, 6) array with random integers between 1 and 10\n",
        "arr = np.random.randint(1, 11, (5, 6))\n",
        "print(\"Original Array:\\n\", arr)\n",
        "# Extracting even integers from the array\n",
        "even_integers = arr[arr % 2 == 0]\n",
        "print(\"Even Integers:\\n\", even_integers)\n",
        "# Extracting odd integers from the array\n",
        "odd_integers = arr[arr % 2 != 0]\n",
        "print(\"Odd Integers:\\n\", odd_integers)\n"
      ],
      "metadata": {
        "colab": {
          "base_uri": "https://localhost:8080/"
        },
        "id": "-VAkHIIDuGDI",
        "outputId": "12306220-9d28-4799-f459-9e9ae98145b8"
      },
      "execution_count": 8,
      "outputs": [
        {
          "output_type": "stream",
          "name": "stdout",
          "text": [
            "Original Array:\n",
            " [[ 3  3  8 10 10 10]\n",
            " [ 3  5  7  8 10  6]\n",
            " [ 4  7  4  9  2  5]\n",
            " [ 3  7  5  8  3  4]\n",
            " [ 7  4  9  9  2  6]]\n",
            "Even Integers:\n",
            " [ 8 10 10 10  8 10  6  4  4  2  8  4  4  2  6]\n",
            "Odd Integers:\n",
            " [3 3 3 5 7 7 9 5 3 7 5 3 7 9 9]\n"
          ]
        }
      ]
    },
    {
      "cell_type": "code",
      "source": [
        "'''\n",
        "6. Create a 3D NumPy array of shape (3, 3, 3) containing random integers between 1 and 10. Perform the\n",
        "following operations:\n",
        "a) Find the indices of the maximum values along each depth level (third axis).\n",
        "b) Perform element-wise multiplication of between both array.\n",
        "'''\n",
        "#ANSWER\n",
        "\n",
        "\n",
        "# Creating a 3D array of shape (3, 3, 3) with random integers between 1 and 10\n",
        "arr_3d = np.random.randint(1, 11, (3, 3, 3))\n",
        "print(\"3D Array:\\n\", arr_3d)\n",
        "# Finding the indices of the maximum values along the third axis (depth level)\n",
        "max_indices = np.argmax(arr_3d, axis=2)\n",
        "print(\"Indices of maximum values along each depth level:\\n\", max_indices)\n",
        "# Generating another random array with the same shape for element-wise multiplication\n",
        "arr_3d_2 = np.random.randint(1, 11, (3, 3, 3))\n",
        "\n",
        "# Element-wise multiplication of both arrays\n",
        "result_multiplication = np.multiply(arr_3d, arr_3d_2)\n",
        "print(\"Element-wise Multiplication Result:\\n\", result_multiplication)\n"
      ],
      "metadata": {
        "colab": {
          "base_uri": "https://localhost:8080/"
        },
        "id": "nBN1i91svEql",
        "outputId": "924210bf-d544-46f3-8ba5-86b77d91d2c2"
      },
      "execution_count": 9,
      "outputs": [
        {
          "output_type": "stream",
          "name": "stdout",
          "text": [
            "3D Array:\n",
            " [[[ 6  6  5]\n",
            "  [ 3  6 10]\n",
            "  [ 8  7  5]]\n",
            "\n",
            " [[10  7  6]\n",
            "  [ 6 10  8]\n",
            "  [ 9  7  7]]\n",
            "\n",
            " [[ 5  1  3]\n",
            "  [ 6  3  7]\n",
            "  [10  2  5]]]\n",
            "Indices of maximum values along each depth level:\n",
            " [[0 2 0]\n",
            " [0 1 0]\n",
            " [0 2 0]]\n",
            "Element-wise Multiplication Result:\n",
            " [[[12 12 15]\n",
            "  [21 36 80]\n",
            "  [40 70  5]]\n",
            "\n",
            " [[10 56 36]\n",
            "  [24 10 32]\n",
            "  [45 42 42]]\n",
            "\n",
            " [[10  8 15]\n",
            "  [30  3 63]\n",
            "  [50 14 40]]]\n"
          ]
        }
      ]
    },
    {
      "cell_type": "code",
      "source": [
        "'''\n",
        "7. Clean and transform the 'Phone' column in the sample dataset to remove non-numeric characters and\n",
        "convert it to a numeric data type. Also display the table attributes and data types of each column.\n",
        "'''\n",
        "#ANSWER\n",
        "\n",
        "import pandas as pd\n",
        "\n",
        "# Sample data\n",
        "data = {\n",
        "    'Name': ['Alice', 'Bob', 'Charlie'],\n",
        "    'Phone': ['123-456-7890', '(987) 654-3210', '555.123.4567']\n",
        "}\n",
        "\n",
        "# Creating a DataFrame\n",
        "df = pd.DataFrame(data)\n",
        "\n",
        "# Cleaning the 'Phone' column by removing non-numeric characters\n",
        "df['Phone'] = df['Phone'].str.replace(r'\\D', '', regex=True)\n",
        "\n",
        "# Converting the 'Phone' column to a numeric data type\n",
        "df['Phone'] = pd.to_numeric(df['Phone'])\n",
        "\n",
        "print(\"Cleaned DataFrame:\\n\", df)\n",
        "# Displaying the data types of each column\n",
        "print(\"\\nData Types:\\n\", df.dtypes)\n"
      ],
      "metadata": {
        "colab": {
          "base_uri": "https://localhost:8080/"
        },
        "id": "9tpIrBn0vSRC",
        "outputId": "2c484714-224e-4e61-c978-105ba7ea534e"
      },
      "execution_count": 10,
      "outputs": [
        {
          "output_type": "stream",
          "name": "stdout",
          "text": [
            "Cleaned DataFrame:\n",
            "       Name       Phone\n",
            "0    Alice  1234567890\n",
            "1      Bob  9876543210\n",
            "2  Charlie  5551234567\n",
            "\n",
            "Data Types:\n",
            " Name     object\n",
            "Phone     int64\n",
            "dtype: object\n"
          ]
        }
      ]
    },
    {
      "cell_type": "code",
      "source": [
        "\n",
        "\n",
        "import pandas as pd\n",
        "\n",
        "# Reading the 'data.csv' file and skipping the first 50 rows\n",
        "df = pd.read_csv('/content/People Data.csv', skiprows=50)\n",
        "df"
      ],
      "metadata": {
        "colab": {
          "base_uri": "https://localhost:8080/",
          "height": 424
        },
        "id": "JTXoJqopvgN9",
        "outputId": "d5268511-d34a-4856-f9a1-3b3389c70b7a"
      },
      "execution_count": 20,
      "outputs": [
        {
          "output_type": "execute_result",
          "data": {
            "text/plain": [
              "       50  afF3018e9cdd1dA     George    Mercer  Female  \\\n",
              "0      51  CccE5DAb6E288e5         Jo    Zavala    Male   \n",
              "1      52  DfBDc3621D4bcec     Joshua     Carey  Female   \n",
              "2      53  f55b0A249f5E44D     Rickey     Hobbs  Female   \n",
              "3      54  Ed71DcfaBFd0beE      Robyn    Reilly    Male   \n",
              "4      55  FDaFD0c3f5387EC  Christina    Conrad    Male   \n",
              "..    ...              ...        ...       ...     ...   \n",
              "945   996  fedF4c7Fd9e7cFa       Kurt    Bryant  Female   \n",
              "946   997  ECddaFEDdEc4FAB      Donna     Barry  Female   \n",
              "947   998  2adde51d8B8979E      Cathy  Mckinney  Female   \n",
              "948   999  Fb2FE369D1E171A   Jermaine    Phelps    Male   \n",
              "949  1000  8b756f6231DDC6e        Lee      Tran  Female   \n",
              "\n",
              "    douglascontreras@example.net    +1-326-669-0118x4341  11-09-1941  \\\n",
              "0           pamela64@example.net  001-859-448-9935x54536  23-11-1992   \n",
              "1      dianashepherd@example.net    001-274-739-8470x814  07-01-1915   \n",
              "2      ingramtiffany@example.org        241.179.9509x498  01-07-1910   \n",
              "3     carriecrawford@example.org       207.797.8345x6177  27-07-1982   \n",
              "4     fuentesclaudia@example.net    001-599-042-7428x143  06-01-1998   \n",
              "..                           ...                     ...         ...   \n",
              "945       lyonsdaisy@example.net            021.775.2933  05-01-1959   \n",
              "946      dariusbryan@example.com    001-149-710-7799x721  06-10-2001   \n",
              "947       georgechan@example.org   +1-750-774-4128x33265  13-05-1918   \n",
              "948          wanda04@example.net           (915)292-2254  31-08-1971   \n",
              "949      deannablack@example.org      079.752.5424x67259  24-01-1947   \n",
              "\n",
              "             Human resources officer   70000  \n",
              "0                       Nurse, adult   80000  \n",
              "1                Seismic interpreter   70000  \n",
              "2                          Barrister   60000  \n",
              "3               Engineer, structural  100000  \n",
              "4                    Producer, radio   50000  \n",
              "..                               ...     ...  \n",
              "945                Personnel officer   90000  \n",
              "946          Education administrator   50000  \n",
              "947  Commercial/residential surveyor   60000  \n",
              "948                 Ambulance person  100000  \n",
              "949       Nurse, learning disability   90000  \n",
              "\n",
              "[950 rows x 10 columns]"
            ],
            "text/html": [
              "\n",
              "  <div id=\"df-ca90fee7-c0ab-4cc5-8e21-e29b9e1e4adf\" class=\"colab-df-container\">\n",
              "    <div>\n",
              "<style scoped>\n",
              "    .dataframe tbody tr th:only-of-type {\n",
              "        vertical-align: middle;\n",
              "    }\n",
              "\n",
              "    .dataframe tbody tr th {\n",
              "        vertical-align: top;\n",
              "    }\n",
              "\n",
              "    .dataframe thead th {\n",
              "        text-align: right;\n",
              "    }\n",
              "</style>\n",
              "<table border=\"1\" class=\"dataframe\">\n",
              "  <thead>\n",
              "    <tr style=\"text-align: right;\">\n",
              "      <th></th>\n",
              "      <th>50</th>\n",
              "      <th>afF3018e9cdd1dA</th>\n",
              "      <th>George</th>\n",
              "      <th>Mercer</th>\n",
              "      <th>Female</th>\n",
              "      <th>douglascontreras@example.net</th>\n",
              "      <th>+1-326-669-0118x4341</th>\n",
              "      <th>11-09-1941</th>\n",
              "      <th>Human resources officer</th>\n",
              "      <th>70000</th>\n",
              "    </tr>\n",
              "  </thead>\n",
              "  <tbody>\n",
              "    <tr>\n",
              "      <th>0</th>\n",
              "      <td>51</td>\n",
              "      <td>CccE5DAb6E288e5</td>\n",
              "      <td>Jo</td>\n",
              "      <td>Zavala</td>\n",
              "      <td>Male</td>\n",
              "      <td>pamela64@example.net</td>\n",
              "      <td>001-859-448-9935x54536</td>\n",
              "      <td>23-11-1992</td>\n",
              "      <td>Nurse, adult</td>\n",
              "      <td>80000</td>\n",
              "    </tr>\n",
              "    <tr>\n",
              "      <th>1</th>\n",
              "      <td>52</td>\n",
              "      <td>DfBDc3621D4bcec</td>\n",
              "      <td>Joshua</td>\n",
              "      <td>Carey</td>\n",
              "      <td>Female</td>\n",
              "      <td>dianashepherd@example.net</td>\n",
              "      <td>001-274-739-8470x814</td>\n",
              "      <td>07-01-1915</td>\n",
              "      <td>Seismic interpreter</td>\n",
              "      <td>70000</td>\n",
              "    </tr>\n",
              "    <tr>\n",
              "      <th>2</th>\n",
              "      <td>53</td>\n",
              "      <td>f55b0A249f5E44D</td>\n",
              "      <td>Rickey</td>\n",
              "      <td>Hobbs</td>\n",
              "      <td>Female</td>\n",
              "      <td>ingramtiffany@example.org</td>\n",
              "      <td>241.179.9509x498</td>\n",
              "      <td>01-07-1910</td>\n",
              "      <td>Barrister</td>\n",
              "      <td>60000</td>\n",
              "    </tr>\n",
              "    <tr>\n",
              "      <th>3</th>\n",
              "      <td>54</td>\n",
              "      <td>Ed71DcfaBFd0beE</td>\n",
              "      <td>Robyn</td>\n",
              "      <td>Reilly</td>\n",
              "      <td>Male</td>\n",
              "      <td>carriecrawford@example.org</td>\n",
              "      <td>207.797.8345x6177</td>\n",
              "      <td>27-07-1982</td>\n",
              "      <td>Engineer, structural</td>\n",
              "      <td>100000</td>\n",
              "    </tr>\n",
              "    <tr>\n",
              "      <th>4</th>\n",
              "      <td>55</td>\n",
              "      <td>FDaFD0c3f5387EC</td>\n",
              "      <td>Christina</td>\n",
              "      <td>Conrad</td>\n",
              "      <td>Male</td>\n",
              "      <td>fuentesclaudia@example.net</td>\n",
              "      <td>001-599-042-7428x143</td>\n",
              "      <td>06-01-1998</td>\n",
              "      <td>Producer, radio</td>\n",
              "      <td>50000</td>\n",
              "    </tr>\n",
              "    <tr>\n",
              "      <th>...</th>\n",
              "      <td>...</td>\n",
              "      <td>...</td>\n",
              "      <td>...</td>\n",
              "      <td>...</td>\n",
              "      <td>...</td>\n",
              "      <td>...</td>\n",
              "      <td>...</td>\n",
              "      <td>...</td>\n",
              "      <td>...</td>\n",
              "      <td>...</td>\n",
              "    </tr>\n",
              "    <tr>\n",
              "      <th>945</th>\n",
              "      <td>996</td>\n",
              "      <td>fedF4c7Fd9e7cFa</td>\n",
              "      <td>Kurt</td>\n",
              "      <td>Bryant</td>\n",
              "      <td>Female</td>\n",
              "      <td>lyonsdaisy@example.net</td>\n",
              "      <td>021.775.2933</td>\n",
              "      <td>05-01-1959</td>\n",
              "      <td>Personnel officer</td>\n",
              "      <td>90000</td>\n",
              "    </tr>\n",
              "    <tr>\n",
              "      <th>946</th>\n",
              "      <td>997</td>\n",
              "      <td>ECddaFEDdEc4FAB</td>\n",
              "      <td>Donna</td>\n",
              "      <td>Barry</td>\n",
              "      <td>Female</td>\n",
              "      <td>dariusbryan@example.com</td>\n",
              "      <td>001-149-710-7799x721</td>\n",
              "      <td>06-10-2001</td>\n",
              "      <td>Education administrator</td>\n",
              "      <td>50000</td>\n",
              "    </tr>\n",
              "    <tr>\n",
              "      <th>947</th>\n",
              "      <td>998</td>\n",
              "      <td>2adde51d8B8979E</td>\n",
              "      <td>Cathy</td>\n",
              "      <td>Mckinney</td>\n",
              "      <td>Female</td>\n",
              "      <td>georgechan@example.org</td>\n",
              "      <td>+1-750-774-4128x33265</td>\n",
              "      <td>13-05-1918</td>\n",
              "      <td>Commercial/residential surveyor</td>\n",
              "      <td>60000</td>\n",
              "    </tr>\n",
              "    <tr>\n",
              "      <th>948</th>\n",
              "      <td>999</td>\n",
              "      <td>Fb2FE369D1E171A</td>\n",
              "      <td>Jermaine</td>\n",
              "      <td>Phelps</td>\n",
              "      <td>Male</td>\n",
              "      <td>wanda04@example.net</td>\n",
              "      <td>(915)292-2254</td>\n",
              "      <td>31-08-1971</td>\n",
              "      <td>Ambulance person</td>\n",
              "      <td>100000</td>\n",
              "    </tr>\n",
              "    <tr>\n",
              "      <th>949</th>\n",
              "      <td>1000</td>\n",
              "      <td>8b756f6231DDC6e</td>\n",
              "      <td>Lee</td>\n",
              "      <td>Tran</td>\n",
              "      <td>Female</td>\n",
              "      <td>deannablack@example.org</td>\n",
              "      <td>079.752.5424x67259</td>\n",
              "      <td>24-01-1947</td>\n",
              "      <td>Nurse, learning disability</td>\n",
              "      <td>90000</td>\n",
              "    </tr>\n",
              "  </tbody>\n",
              "</table>\n",
              "<p>950 rows × 10 columns</p>\n",
              "</div>\n",
              "    <div class=\"colab-df-buttons\">\n",
              "\n",
              "  <div class=\"colab-df-container\">\n",
              "    <button class=\"colab-df-convert\" onclick=\"convertToInteractive('df-ca90fee7-c0ab-4cc5-8e21-e29b9e1e4adf')\"\n",
              "            title=\"Convert this dataframe to an interactive table.\"\n",
              "            style=\"display:none;\">\n",
              "\n",
              "  <svg xmlns=\"http://www.w3.org/2000/svg\" height=\"24px\" viewBox=\"0 -960 960 960\">\n",
              "    <path d=\"M120-120v-720h720v720H120Zm60-500h600v-160H180v160Zm220 220h160v-160H400v160Zm0 220h160v-160H400v160ZM180-400h160v-160H180v160Zm440 0h160v-160H620v160ZM180-180h160v-160H180v160Zm440 0h160v-160H620v160Z\"/>\n",
              "  </svg>\n",
              "    </button>\n",
              "\n",
              "  <style>\n",
              "    .colab-df-container {\n",
              "      display:flex;\n",
              "      gap: 12px;\n",
              "    }\n",
              "\n",
              "    .colab-df-convert {\n",
              "      background-color: #E8F0FE;\n",
              "      border: none;\n",
              "      border-radius: 50%;\n",
              "      cursor: pointer;\n",
              "      display: none;\n",
              "      fill: #1967D2;\n",
              "      height: 32px;\n",
              "      padding: 0 0 0 0;\n",
              "      width: 32px;\n",
              "    }\n",
              "\n",
              "    .colab-df-convert:hover {\n",
              "      background-color: #E2EBFA;\n",
              "      box-shadow: 0px 1px 2px rgba(60, 64, 67, 0.3), 0px 1px 3px 1px rgba(60, 64, 67, 0.15);\n",
              "      fill: #174EA6;\n",
              "    }\n",
              "\n",
              "    .colab-df-buttons div {\n",
              "      margin-bottom: 4px;\n",
              "    }\n",
              "\n",
              "    [theme=dark] .colab-df-convert {\n",
              "      background-color: #3B4455;\n",
              "      fill: #D2E3FC;\n",
              "    }\n",
              "\n",
              "    [theme=dark] .colab-df-convert:hover {\n",
              "      background-color: #434B5C;\n",
              "      box-shadow: 0px 1px 3px 1px rgba(0, 0, 0, 0.15);\n",
              "      filter: drop-shadow(0px 1px 2px rgba(0, 0, 0, 0.3));\n",
              "      fill: #FFFFFF;\n",
              "    }\n",
              "  </style>\n",
              "\n",
              "    <script>\n",
              "      const buttonEl =\n",
              "        document.querySelector('#df-ca90fee7-c0ab-4cc5-8e21-e29b9e1e4adf button.colab-df-convert');\n",
              "      buttonEl.style.display =\n",
              "        google.colab.kernel.accessAllowed ? 'block' : 'none';\n",
              "\n",
              "      async function convertToInteractive(key) {\n",
              "        const element = document.querySelector('#df-ca90fee7-c0ab-4cc5-8e21-e29b9e1e4adf');\n",
              "        const dataTable =\n",
              "          await google.colab.kernel.invokeFunction('convertToInteractive',\n",
              "                                                    [key], {});\n",
              "        if (!dataTable) return;\n",
              "\n",
              "        const docLinkHtml = 'Like what you see? Visit the ' +\n",
              "          '<a target=\"_blank\" href=https://colab.research.google.com/notebooks/data_table.ipynb>data table notebook</a>'\n",
              "          + ' to learn more about interactive tables.';\n",
              "        element.innerHTML = '';\n",
              "        dataTable['output_type'] = 'display_data';\n",
              "        await google.colab.output.renderOutput(dataTable, element);\n",
              "        const docLink = document.createElement('div');\n",
              "        docLink.innerHTML = docLinkHtml;\n",
              "        element.appendChild(docLink);\n",
              "      }\n",
              "    </script>\n",
              "  </div>\n",
              "\n",
              "\n",
              "<div id=\"df-c4d59949-a43b-4a4a-8a59-cdfe209e4637\">\n",
              "  <button class=\"colab-df-quickchart\" onclick=\"quickchart('df-c4d59949-a43b-4a4a-8a59-cdfe209e4637')\"\n",
              "            title=\"Suggest charts\"\n",
              "            style=\"display:none;\">\n",
              "\n",
              "<svg xmlns=\"http://www.w3.org/2000/svg\" height=\"24px\"viewBox=\"0 0 24 24\"\n",
              "     width=\"24px\">\n",
              "    <g>\n",
              "        <path d=\"M19 3H5c-1.1 0-2 .9-2 2v14c0 1.1.9 2 2 2h14c1.1 0 2-.9 2-2V5c0-1.1-.9-2-2-2zM9 17H7v-7h2v7zm4 0h-2V7h2v10zm4 0h-2v-4h2v4z\"/>\n",
              "    </g>\n",
              "</svg>\n",
              "  </button>\n",
              "\n",
              "<style>\n",
              "  .colab-df-quickchart {\n",
              "      --bg-color: #E8F0FE;\n",
              "      --fill-color: #1967D2;\n",
              "      --hover-bg-color: #E2EBFA;\n",
              "      --hover-fill-color: #174EA6;\n",
              "      --disabled-fill-color: #AAA;\n",
              "      --disabled-bg-color: #DDD;\n",
              "  }\n",
              "\n",
              "  [theme=dark] .colab-df-quickchart {\n",
              "      --bg-color: #3B4455;\n",
              "      --fill-color: #D2E3FC;\n",
              "      --hover-bg-color: #434B5C;\n",
              "      --hover-fill-color: #FFFFFF;\n",
              "      --disabled-bg-color: #3B4455;\n",
              "      --disabled-fill-color: #666;\n",
              "  }\n",
              "\n",
              "  .colab-df-quickchart {\n",
              "    background-color: var(--bg-color);\n",
              "    border: none;\n",
              "    border-radius: 50%;\n",
              "    cursor: pointer;\n",
              "    display: none;\n",
              "    fill: var(--fill-color);\n",
              "    height: 32px;\n",
              "    padding: 0;\n",
              "    width: 32px;\n",
              "  }\n",
              "\n",
              "  .colab-df-quickchart:hover {\n",
              "    background-color: var(--hover-bg-color);\n",
              "    box-shadow: 0 1px 2px rgba(60, 64, 67, 0.3), 0 1px 3px 1px rgba(60, 64, 67, 0.15);\n",
              "    fill: var(--button-hover-fill-color);\n",
              "  }\n",
              "\n",
              "  .colab-df-quickchart-complete:disabled,\n",
              "  .colab-df-quickchart-complete:disabled:hover {\n",
              "    background-color: var(--disabled-bg-color);\n",
              "    fill: var(--disabled-fill-color);\n",
              "    box-shadow: none;\n",
              "  }\n",
              "\n",
              "  .colab-df-spinner {\n",
              "    border: 2px solid var(--fill-color);\n",
              "    border-color: transparent;\n",
              "    border-bottom-color: var(--fill-color);\n",
              "    animation:\n",
              "      spin 1s steps(1) infinite;\n",
              "  }\n",
              "\n",
              "  @keyframes spin {\n",
              "    0% {\n",
              "      border-color: transparent;\n",
              "      border-bottom-color: var(--fill-color);\n",
              "      border-left-color: var(--fill-color);\n",
              "    }\n",
              "    20% {\n",
              "      border-color: transparent;\n",
              "      border-left-color: var(--fill-color);\n",
              "      border-top-color: var(--fill-color);\n",
              "    }\n",
              "    30% {\n",
              "      border-color: transparent;\n",
              "      border-left-color: var(--fill-color);\n",
              "      border-top-color: var(--fill-color);\n",
              "      border-right-color: var(--fill-color);\n",
              "    }\n",
              "    40% {\n",
              "      border-color: transparent;\n",
              "      border-right-color: var(--fill-color);\n",
              "      border-top-color: var(--fill-color);\n",
              "    }\n",
              "    60% {\n",
              "      border-color: transparent;\n",
              "      border-right-color: var(--fill-color);\n",
              "    }\n",
              "    80% {\n",
              "      border-color: transparent;\n",
              "      border-right-color: var(--fill-color);\n",
              "      border-bottom-color: var(--fill-color);\n",
              "    }\n",
              "    90% {\n",
              "      border-color: transparent;\n",
              "      border-bottom-color: var(--fill-color);\n",
              "    }\n",
              "  }\n",
              "</style>\n",
              "\n",
              "  <script>\n",
              "    async function quickchart(key) {\n",
              "      const quickchartButtonEl =\n",
              "        document.querySelector('#' + key + ' button');\n",
              "      quickchartButtonEl.disabled = true;  // To prevent multiple clicks.\n",
              "      quickchartButtonEl.classList.add('colab-df-spinner');\n",
              "      try {\n",
              "        const charts = await google.colab.kernel.invokeFunction(\n",
              "            'suggestCharts', [key], {});\n",
              "      } catch (error) {\n",
              "        console.error('Error during call to suggestCharts:', error);\n",
              "      }\n",
              "      quickchartButtonEl.classList.remove('colab-df-spinner');\n",
              "      quickchartButtonEl.classList.add('colab-df-quickchart-complete');\n",
              "    }\n",
              "    (() => {\n",
              "      let quickchartButtonEl =\n",
              "        document.querySelector('#df-c4d59949-a43b-4a4a-8a59-cdfe209e4637 button');\n",
              "      quickchartButtonEl.style.display =\n",
              "        google.colab.kernel.accessAllowed ? 'block' : 'none';\n",
              "    })();\n",
              "  </script>\n",
              "</div>\n",
              "\n",
              "  <div id=\"id_cd96f30f-bb4f-4dca-867d-877de3d1ed75\">\n",
              "    <style>\n",
              "      .colab-df-generate {\n",
              "        background-color: #E8F0FE;\n",
              "        border: none;\n",
              "        border-radius: 50%;\n",
              "        cursor: pointer;\n",
              "        display: none;\n",
              "        fill: #1967D2;\n",
              "        height: 32px;\n",
              "        padding: 0 0 0 0;\n",
              "        width: 32px;\n",
              "      }\n",
              "\n",
              "      .colab-df-generate:hover {\n",
              "        background-color: #E2EBFA;\n",
              "        box-shadow: 0px 1px 2px rgba(60, 64, 67, 0.3), 0px 1px 3px 1px rgba(60, 64, 67, 0.15);\n",
              "        fill: #174EA6;\n",
              "      }\n",
              "\n",
              "      [theme=dark] .colab-df-generate {\n",
              "        background-color: #3B4455;\n",
              "        fill: #D2E3FC;\n",
              "      }\n",
              "\n",
              "      [theme=dark] .colab-df-generate:hover {\n",
              "        background-color: #434B5C;\n",
              "        box-shadow: 0px 1px 3px 1px rgba(0, 0, 0, 0.15);\n",
              "        filter: drop-shadow(0px 1px 2px rgba(0, 0, 0, 0.3));\n",
              "        fill: #FFFFFF;\n",
              "      }\n",
              "    </style>\n",
              "    <button class=\"colab-df-generate\" onclick=\"generateWithVariable('df')\"\n",
              "            title=\"Generate code using this dataframe.\"\n",
              "            style=\"display:none;\">\n",
              "\n",
              "  <svg xmlns=\"http://www.w3.org/2000/svg\" height=\"24px\"viewBox=\"0 0 24 24\"\n",
              "       width=\"24px\">\n",
              "    <path d=\"M7,19H8.4L18.45,9,17,7.55,7,17.6ZM5,21V16.75L18.45,3.32a2,2,0,0,1,2.83,0l1.4,1.43a1.91,1.91,0,0,1,.58,1.4,1.91,1.91,0,0,1-.58,1.4L9.25,21ZM18.45,9,17,7.55Zm-12,3A5.31,5.31,0,0,0,4.9,8.1,5.31,5.31,0,0,0,1,6.5,5.31,5.31,0,0,0,4.9,4.9,5.31,5.31,0,0,0,6.5,1,5.31,5.31,0,0,0,8.1,4.9,5.31,5.31,0,0,0,12,6.5,5.46,5.46,0,0,0,6.5,12Z\"/>\n",
              "  </svg>\n",
              "    </button>\n",
              "    <script>\n",
              "      (() => {\n",
              "      const buttonEl =\n",
              "        document.querySelector('#id_cd96f30f-bb4f-4dca-867d-877de3d1ed75 button.colab-df-generate');\n",
              "      buttonEl.style.display =\n",
              "        google.colab.kernel.accessAllowed ? 'block' : 'none';\n",
              "\n",
              "      buttonEl.onclick = () => {\n",
              "        google.colab.notebook.generateWithVariable('df');\n",
              "      }\n",
              "      })();\n",
              "    </script>\n",
              "  </div>\n",
              "\n",
              "    </div>\n",
              "  </div>\n"
            ],
            "application/vnd.google.colaboratory.intrinsic+json": {
              "type": "dataframe",
              "variable_name": "df",
              "summary": "{\n  \"name\": \"df\",\n  \"rows\": 950,\n  \"fields\": [\n    {\n      \"column\": \"50\",\n      \"properties\": {\n        \"dtype\": \"number\",\n        \"std\": 274,\n        \"min\": 51,\n        \"max\": 1000,\n        \"num_unique_values\": 950,\n        \"samples\": [\n          250,\n          980,\n          744\n        ],\n        \"semantic_type\": \"\",\n        \"description\": \"\"\n      }\n    },\n    {\n      \"column\": \"afF3018e9cdd1dA\",\n      \"properties\": {\n        \"dtype\": \"string\",\n        \"num_unique_values\": 950,\n        \"samples\": [\n          \"0ae5987cCC3EbcB\",\n          \"Fa4D7Cece0D9Aa0\",\n          \"de8Bb8dEa84d29F\"\n        ],\n        \"semantic_type\": \"\",\n        \"description\": \"\"\n      }\n    },\n    {\n      \"column\": \"George\",\n      \"properties\": {\n        \"dtype\": \"string\",\n        \"num_unique_values\": 516,\n        \"samples\": [\n          \"Darin\",\n          \"Travis\",\n          \"Sergio\"\n        ],\n        \"semantic_type\": \"\",\n        \"description\": \"\"\n      }\n    },\n    {\n      \"column\": \"Mercer\",\n      \"properties\": {\n        \"dtype\": \"string\",\n        \"num_unique_values\": 615,\n        \"samples\": [\n          \"Welch\",\n          \"Meza\",\n          \"Burch\"\n        ],\n        \"semantic_type\": \"\",\n        \"description\": \"\"\n      }\n    },\n    {\n      \"column\": \"Female\",\n      \"properties\": {\n        \"dtype\": \"category\",\n        \"num_unique_values\": 2,\n        \"samples\": [\n          \"Female\",\n          \"Male\"\n        ],\n        \"semantic_type\": \"\",\n        \"description\": \"\"\n      }\n    },\n    {\n      \"column\": \"douglascontreras@example.net\",\n      \"properties\": {\n        \"dtype\": \"string\",\n        \"num_unique_values\": 950,\n        \"samples\": [\n          \"henry51@example.net\",\n          \"mathew63@example.org\"\n        ],\n        \"semantic_type\": \"\",\n        \"description\": \"\"\n      }\n    },\n    {\n      \"column\": \"+1-326-669-0118x4341\",\n      \"properties\": {\n        \"dtype\": \"string\",\n        \"num_unique_values\": 935,\n        \"samples\": [\n          \"204-364-8124\",\n          \"840.520.0168\"\n        ],\n        \"semantic_type\": \"\",\n        \"description\": \"\"\n      }\n    },\n    {\n      \"column\": \"11-09-1941\",\n      \"properties\": {\n        \"dtype\": \"object\",\n        \"num_unique_values\": 941,\n        \"samples\": [\n          \"19-11-2020\",\n          \"26-03-1941\"\n        ],\n        \"semantic_type\": \"\",\n        \"description\": \"\"\n      }\n    },\n    {\n      \"column\": \"Human resources officer\",\n      \"properties\": {\n        \"dtype\": \"string\",\n        \"num_unique_values\": 506,\n        \"samples\": [\n          \"Banker\",\n          \"Barrister's clerk\"\n        ],\n        \"semantic_type\": \"\",\n        \"description\": \"\"\n      }\n    },\n    {\n      \"column\": \"70000\",\n      \"properties\": {\n        \"dtype\": \"number\",\n        \"std\": 16084,\n        \"min\": 50000,\n        \"max\": 100000,\n        \"num_unique_values\": 8,\n        \"samples\": [\n          70000,\n          85000\n        ],\n        \"semantic_type\": \"\",\n        \"description\": \"\"\n      }\n    }\n  ]\n}"
            }
          },
          "metadata": {},
          "execution_count": 20
        }
      ]
    },
    {
      "cell_type": "code",
      "source": [
        "# Selecting specific columns\n",
        "df_filtered = df[['Last Name', 'Gender', 'Email', 'Phone', 'Salary']]\n"
      ],
      "metadata": {
        "id": "RwprojY2xeqM"
      },
      "execution_count": 19,
      "outputs": []
    },
    {
      "cell_type": "code",
      "source": [
        "# Displaying the first 10 rows of the filtered dataset\n",
        "print(\"First 10 rows of the filtered dataset:\")\n",
        "print(df_filtered.head(10))\n"
      ],
      "metadata": {
        "colab": {
          "base_uri": "https://localhost:8080/"
        },
        "id": "tM6zwIcYxsmo",
        "outputId": "d86e3eb9-0ef2-49ac-e92b-8b6d3fc7b4fb"
      },
      "execution_count": 21,
      "outputs": [
        {
          "output_type": "stream",
          "name": "stdout",
          "text": [
            "First 10 rows of the filtered dataset:\n",
            "  Last Name  Gender                          Email               Phone  Salary\n",
            "0   Mahoney    Male            pwarner@example.org        857.139.8239   90000\n",
            "1    Rivers  Female  fergusonkatherine@example.net                 NaN   80000\n",
            "2    Lowery  Female            fhoward@example.org       (599)782-0605   50000\n",
            "3    Hooper    Male          zjohnston@example.com                 NaN   65000\n",
            "4      Rice  Female               elin@example.net  (390)417-1635x3010  100000\n",
            "5  Caldwell    Male          kaitlin13@example.net          8537800927   50000\n",
            "6   Hoffman    Male         jeffharvey@example.com   093.655.7480x7895   60000\n",
            "7  Andersen    Male           alicia33@example.org          4709522945   65000\n",
            "8      Mays    Male             jake50@example.com        013.820.4758   50000\n",
            "9  Mitchell    Male      lanechristina@example.net  (560)903-5068x4985   50000\n"
          ]
        }
      ]
    },
    {
      "cell_type": "code",
      "source": [
        "# Extracting the 'Salary' column and displaying the last 5 values\n",
        "salary_series = df_filtered['Salary']\n",
        "print(\"Last 5 values of the 'Salary' column:\")\n",
        "print(salary_series.tail(5))\n"
      ],
      "metadata": {
        "colab": {
          "base_uri": "https://localhost:8080/"
        },
        "id": "yhyzASI_FjAQ",
        "outputId": "d2653040-3b49-471a-d0fb-901e1ef32488"
      },
      "execution_count": 22,
      "outputs": [
        {
          "output_type": "stream",
          "name": "stdout",
          "text": [
            "Last 5 values of the 'Salary' column:\n",
            "995     90000\n",
            "996     50000\n",
            "997     60000\n",
            "998    100000\n",
            "999     90000\n",
            "Name: Salary, dtype: int64\n"
          ]
        }
      ]
    },
    {
      "cell_type": "code",
      "source": [
        "'''9. Filter and select rows from the People _ Dataset, where the \"Last Name' column contains the name 'Duke',\n",
        "'Gender' column contains the word Female and 'Salary' should be less than 85000.'''\n",
        "\n",
        "#ANSWER\n",
        "\n",
        "# Filtering the dataset where 'Last Name' contains 'Duke', 'Gender' is 'Female', and 'Salary' is less than 85000\n",
        "filtered_df = df_filtered[\n",
        "    (df_filtered['Last Name'].str.contains('Duke')) &\n",
        "    (df_filtered['Gender'] == 'Female') &\n",
        "    (df_filtered['Salary'] < 85000)\n",
        "]\n",
        "\n",
        "# Displaying the filtered rows\n",
        "print(\"Filtered Rows:\\n\", filtered_df)\n"
      ],
      "metadata": {
        "colab": {
          "base_uri": "https://localhost:8080/"
        },
        "id": "q_EiKdzfKkb8",
        "outputId": "7deb1236-5fc8-4f43-a6b7-0ed74fe40cde"
      },
      "execution_count": 23,
      "outputs": [
        {
          "output_type": "stream",
          "name": "stdout",
          "text": [
            "Filtered Rows:\n",
            "     Last Name  Gender                     Email                   Phone  \\\n",
            "45       Duke  Female       diana26@example.net  001-366-475-8607x04350   \n",
            "210      Duke  Female       robin78@example.com            740.434.0212   \n",
            "457      Duke  Female  perryhoffman@example.org     +1-903-596-0995x489   \n",
            "729      Duke  Female   kevinkramer@example.net            982.692.6257   \n",
            "\n",
            "     Salary  \n",
            "45    60000  \n",
            "210   50000  \n",
            "457   50000  \n",
            "729   70000  \n"
          ]
        }
      ]
    },
    {
      "cell_type": "code",
      "source": [
        "'''10. Create a 7* 5 Dataframe in Pandas using a series generated from 35 random integers between 1 to 6?'''\n",
        "\n",
        "\n",
        "import numpy as np\n",
        "\n",
        "# Generating a series of 35 random integers between 1 and 6\n",
        "random_series = pd.Series(np.random.randint(1, 7, 35))\n",
        "\n",
        "# Reshaping the series into a 7x5 DataFrame\n",
        "random_df = random_series.values.reshape(7, 5)\n",
        "\n",
        "# Creating the DataFrame\n",
        "df_random = pd.DataFrame(random_df, columns=[f'Col{i}' for i in range(1, 6)])\n",
        "print(\"7x5 DataFrame with random integers between 1 and 6:\")\n",
        "print(df_random)\n"
      ],
      "metadata": {
        "colab": {
          "base_uri": "https://localhost:8080/"
        },
        "id": "JCUWZ9ADKwuh",
        "outputId": "1837d80d-7174-4ba8-a385-0e1ce914ae68"
      },
      "execution_count": 25,
      "outputs": [
        {
          "output_type": "stream",
          "name": "stdout",
          "text": [
            "7x5 DataFrame with random integers between 1 and 6:\n",
            "   Col1  Col2  Col3  Col4  Col5\n",
            "0     1     1     6     4     3\n",
            "1     4     5     2     6     4\n",
            "2     5     4     4     3     6\n",
            "3     3     1     1     2     2\n",
            "4     6     3     2     2     3\n",
            "5     4     4     6     4     4\n",
            "6     5     6     4     2     5\n"
          ]
        }
      ]
    },
    {
      "cell_type": "code",
      "source": [
        "'''11. Create two different Series, each of length 50, with the following criteria:\n",
        "a) The first Series should contain random numbers ranging from IO to 50.\n",
        "b) The second Series should contain random numbers ranging from 100 to 1000.\n",
        "c) Create a DataFrame by joining these Series by column, and, change the names of the columns to 'coll', 'c012',\n",
        "etc.'''\n",
        "\n",
        "\n",
        "\n",
        "\n",
        "import pandas as pd\n",
        "import numpy as np\n",
        "\n",
        "# Creating the first Series with random numbers ranging from 10 to 50\n",
        "series_1 = pd.Series(np.random.randint(10, 51, 50))\n",
        "\n",
        "\n",
        "# Creating the second Series with random numbers ranging from 100 to 1000\n",
        "series_2 = pd.Series(np.random.randint(100, 1001, 50))\n",
        "\n",
        "\n",
        "# Creating a DataFrame by joining the two Series and renaming the columns\n",
        "df = pd.DataFrame({'col1': series_1, 'col2': series_2})\n",
        "\n",
        "# Display the DataFrame\n",
        "print(df.head())\n"
      ],
      "metadata": {
        "colab": {
          "base_uri": "https://localhost:8080/"
        },
        "id": "yd8nmVtYKy7j",
        "outputId": "21ef662c-295c-4659-c78a-a10cfebc003e"
      },
      "execution_count": 26,
      "outputs": [
        {
          "output_type": "stream",
          "name": "stdout",
          "text": [
            "   col1  col2\n",
            "0    18   229\n",
            "1    33   310\n",
            "2    19   788\n",
            "3    41   514\n",
            "4    34   995\n"
          ]
        }
      ]
    },
    {
      "cell_type": "code",
      "source": [
        "df = pd.read_csv('/content/People Data.csv')"
      ],
      "metadata": {
        "id": "Vuc6cliLbQC3"
      },
      "execution_count": 44,
      "outputs": []
    },
    {
      "cell_type": "code",
      "source": [
        "'''\n",
        "12. Perform the following operations using people data set:\n",
        "a) Delete the 'Email', 'Phone', and 'Date of birth' columns from the dataset.\n",
        "b) Delete the rows containing any missing values.\n",
        "C) Print the final output also.\n",
        "'''\n",
        "\n",
        "# Assuming df contains the people dataset\n",
        "df.drop(columns=['Email', 'Phone', 'Date of birth'], inplace=True)\n",
        "\n",
        "# Dropping rows with any missing values\n",
        "df_cleaned = df.dropna()\n",
        "\n",
        "# Display the final output\n",
        "print(\"Cleaned DataFrame:\\n\", df_cleaned)\n"
      ],
      "metadata": {
        "colab": {
          "base_uri": "https://localhost:8080/"
        },
        "id": "wD0kTSqsMc-j",
        "outputId": "ccb60027-a706-4e60-e75d-55686ff62f10"
      },
      "execution_count": 45,
      "outputs": [
        {
          "output_type": "stream",
          "name": "stdout",
          "text": [
            "Cleaned DataFrame:\n",
            "      Index          User Id First Name Last Name  Gender  \\\n",
            "0        1  8717bbf45cCDbEe     Shelia   Mahoney    Male   \n",
            "1        2  3d5AD30A4cD38ed         Jo    Rivers  Female   \n",
            "2        3  810Ce0F276Badec     Sheryl    Lowery  Female   \n",
            "3        4  BF2a889C00f0cE1    Whitney    Hooper    Male   \n",
            "4        5  9afFEafAe1CBBB9    Lindsey      Rice  Female   \n",
            "..     ...              ...        ...       ...     ...   \n",
            "995    996  fedF4c7Fd9e7cFa       Kurt    Bryant  Female   \n",
            "996    997  ECddaFEDdEc4FAB      Donna     Barry  Female   \n",
            "997    998  2adde51d8B8979E      Cathy  Mckinney  Female   \n",
            "998    999  Fb2FE369D1E171A   Jermaine    Phelps    Male   \n",
            "999   1000  8b756f6231DDC6e        Lee      Tran  Female   \n",
            "\n",
            "                           Job Title  Salary  \n",
            "0                  Probation officer   90000  \n",
            "1                             Dancer   80000  \n",
            "2                               Copy   50000  \n",
            "3           Counselling psychologist   65000  \n",
            "4                Biomedical engineer  100000  \n",
            "..                               ...     ...  \n",
            "995                Personnel officer   90000  \n",
            "996          Education administrator   50000  \n",
            "997  Commercial/residential surveyor   60000  \n",
            "998                 Ambulance person  100000  \n",
            "999       Nurse, learning disability   90000  \n",
            "\n",
            "[1000 rows x 7 columns]\n"
          ]
        }
      ]
    },
    {
      "cell_type": "code",
      "source": [
        "'''\n",
        "13. Create two NumPy arrays, x and y, each containing 100 random float values between O and 1. Perform the\n",
        "following tasks using Matplotlib and NumPy:\n",
        "a) Create a scatter plot using x and y, setting the color of the points to red and the marker style to\n",
        "b) Add a horizontal line at y = 0.5 using a dashed line style and label it as 'y = 0.5'.\n",
        "c) Add a vertical line at x = 0.5 using a dotted line style and label it as 'x = 0.5'.\n",
        "d) Label the x-axis as 'X-axis' and the y-axis as 'Y-axis'.\n",
        "e) Set the title of the plot as 'Advanced Scatter Plot of Random Values'.\n",
        "f) Display a legend for the scatter plot, the horizontal line, and the vertical line.\n",
        "'''\n",
        "\n",
        "\n",
        "\n",
        "import matplotlib.pyplot as plt\n",
        "\n",
        "# Creating two arrays x and y, each containing 100 random float values between 0 and 1\n",
        "x = np.random.rand(100)\n",
        "y = np.random.rand(100)\n",
        "\n",
        "\n",
        "\n",
        "\n",
        "\n",
        "# Creating a scatter plot\n",
        "plt.scatter(x, y, color='red', marker='o', label='Random Points')\n",
        "\n",
        "# Adding a horizontal line at y = 0.5\n",
        "plt.axhline(y=0.5, color='blue', linestyle='--', label='y = 0.5')\n",
        "\n",
        "# Adding a vertical line at x = 0.5\n",
        "plt.axvline(x=0.5, color='green', linestyle=':', label='x = 0.5')\n",
        "\n",
        "# Adding axis labels and title\n",
        "plt.xlabel('X-axis')\n",
        "plt.ylabel('Y-axis')\n",
        "plt.title('Advanced Scatter Plot of Random Values')\n",
        "\n",
        "# Displaying the legend\n",
        "plt.legend()\n",
        "\n",
        "# Showing the plot\n",
        "plt.show()\n",
        "\n"
      ],
      "metadata": {
        "colab": {
          "base_uri": "https://localhost:8080/",
          "height": 472
        },
        "id": "jQecKiLYNKnK",
        "outputId": "b06e2e6a-caed-41b0-cc24-e51c9fd48344"
      },
      "execution_count": 29,
      "outputs": [
        {
          "output_type": "display_data",
          "data": {
            "text/plain": [
              "<Figure size 640x480 with 1 Axes>"
            ],
            "image/png": "[encoded data removed]"
          },
          "metadata": {}
        }
      ]
    },
    {
      "cell_type": "code",
      "source": [
        "'''\n",
        "14. Create a time-series dataset in a Pandas DataFrame with columns: 'Date', 'Temperature', 'Humidity' and\n",
        "Perform the following tasks using Matplotlib:\n",
        "a) Plot the 'Temperature' and 'Humidity' on the same plot with different y-axes (left y-axis for 'Temperature' and\n",
        "right y-axis for 'Humidity').\n",
        "b) Label the x-axis as 'Date'.\n",
        "c) Set the title of the plot as 'Temperature and Humidity Over Time'.\n",
        "'''\n",
        "\n",
        "import pandas as pd\n",
        "import numpy as np\n",
        "\n",
        "# Creating a time-series dataset\n",
        "dates = pd.date_range(start='2024-01-01', periods=100, freq='D')  # 100 days starting from 2024-01-01\n",
        "temperature = np.random.uniform(15, 35, 100)  # Random temperatures between 15 and 35\n",
        "humidity = np.random.uniform(40, 90, 100)     # Random humidity values between 40 and 90\n",
        "\n",
        "# Creating the DataFrame\n",
        "df_time_series = pd.DataFrame({'Date': dates, 'Temperature': temperature, 'Humidity': humidity})\n",
        "\n",
        "# Display the first few rows of the dataset\n",
        "print(df_time_series.head())\n",
        "\n",
        "\n",
        "\n",
        "import matplotlib.pyplot as plt\n",
        "\n",
        "fig, ax1 = plt.subplots()\n",
        "\n",
        "# Plotting Temperature on the left y-axis\n",
        "ax1.plot(df_time_series['Date'], df_time_series['Temperature'], 'r-', label='Temperature')\n",
        "ax1.set_xlabel('Date')\n",
        "ax1.set_ylabel('Temperature (°C)', color='r')\n",
        "ax1.tick_params(axis='y', labelcolor='r')\n",
        "\n",
        "# Creating a second y-axis for Humidity\n",
        "ax2 = ax1.twinx()\n",
        "ax2.plot(df_time_series['Date'], df_time_series['Humidity'], 'b-', label='Humidity')\n",
        "ax2.set_ylabel('Humidity (%)', color='b')\n",
        "ax2.tick_params(axis='y', labelcolor='b')\n",
        "\n",
        "# Adding title\n",
        "plt.title('Temperature and Humidity Over Time')\n",
        "\n",
        "# Showing the plot\n",
        "plt.show()\n"
      ],
      "metadata": {
        "colab": {
          "base_uri": "https://localhost:8080/",
          "height": 576
        },
        "id": "xqXA-tnxRrOd",
        "outputId": "7e00fdd7-f231-412b-9238-5de04b382c03"
      },
      "execution_count": 30,
      "outputs": [
        {
          "output_type": "stream",
          "name": "stdout",
          "text": [
            "        Date  Temperature   Humidity\n",
            "0 2024-01-01    25.614762  52.636745\n",
            "1 2024-01-02    15.530614  49.856838\n",
            "2 2024-01-03    26.426436  88.951342\n",
            "3 2024-01-04    25.746493  56.121429\n",
            "4 2024-01-05    32.122804  65.397640\n"
          ]
        },
        {
          "output_type": "display_data",
          "data": {
            "text/plain": [
              "<Figure size 640x480 with 2 Axes>"
            ],
            "image/png": "[encoded data removed]"
          },
          "metadata": {}
        }
      ]
    },
    {
      "cell_type": "code",
      "source": [
        "'''\n",
        "15. Create a NumPy array data containing 1000 samples from a normal distribution. Perform the following\n",
        "tasks using Matplotlib:\n",
        "a) Plot a histogram of the data with 30 bins.\n",
        "b) Overlay a line plot representing the normal distribution's probability density function (PDF).\n",
        "c) Label the x-axis as Value' and the y-axis as 'Frequency/probabilityi.\n",
        "16.d) Set the title of the plot as 'Histogram with PDF Overlay'.'''\n",
        "\n",
        "\n",
        "\n",
        "\n",
        "#ANSWER\n",
        "\n",
        "\n",
        "import numpy as np\n",
        "import matplotlib.pyplot as plt\n",
        "\n",
        "# Create a NumPy array with 1000 samples from a normal distribution\n",
        "data = np.random.randn(1000)\n",
        "# Plotting a histogram of the data with 30 bins\n",
        "count, bins, ignored = plt.hist(data, bins=30, density=True, alpha=0.6, color='g')\n",
        "\n",
        "# Overlaying the normal distribution's PDF (Probability Density Function)\n",
        "# The PDF formula for a standard normal distribution is:\n",
        "pdf = (1/(np.sqrt(2 * np.pi))) * np.exp(-0.5 * (bins)**2)\n",
        "plt.plot(bins, pdf, linewidth=2, color='r', label='PDF')\n",
        "\n",
        "# Labeling the x-axis as 'Value' and y-axis as 'Frequency/probability'\n",
        "plt.xlabel('Value')\n",
        "plt.ylabel('Frequency/Probability')\n",
        "\n",
        "# Setting the title of the plot\n",
        "plt.title('Histogram with PDF Overlay')\n",
        "\n",
        "# Show the plot\n",
        "plt.show()\n"
      ],
      "metadata": {
        "colab": {
          "base_uri": "https://localhost:8080/",
          "height": 472
        },
        "id": "HP8-ENugWuxL",
        "outputId": "3978cdb8-af53-4b66-9481-062dd1f68f65"
      },
      "execution_count": 40,
      "outputs": [
        {
          "output_type": "display_data",
          "data": {
            "text/plain": [
              "<Figure size 640x480 with 1 Axes>"
            ],
            "image/png": "[encoded data removed]"
          },
          "metadata": {}
        }
      ]
    },
    {
      "cell_type": "code",
      "source": [
        "'''\n",
        "17. Create a Seaborn scatter plot of two random arrays, color points based on their position relative to the\n",
        "origin (quadrants), add a legend, label the axes, and set the title as Quadrant—wise Scatter Plot'.'''\n",
        "\n",
        "\n",
        "\n",
        "\n",
        "\n",
        "import seaborn as sns\n",
        "\n",
        "# Creating two random arrays for x and y\n",
        "x = np.random.randn(100)\n",
        "y = np.random.randn(100)\n",
        "\n",
        "# Determining the color of each point based on its quadrant\n",
        "colors = ['red' if xi > 0 and yi > 0 else 'green' if xi < 0 and yi > 0\n",
        "          else 'blue' if xi < 0 and yi < 0 else 'purple' for xi, yi in zip(x, y)]\n",
        "\n",
        "# Creating the scatter plot\n",
        "plt.figure(figsize=(8,6))\n",
        "sns.scatterplot(x=x, y=y, hue=colors, palette=['red', 'green', 'blue', 'purple'])\n",
        "\n",
        "# Adding labels and title\n",
        "plt.xlabel('X-axis')\n",
        "plt.ylabel('Y-axis')\n",
        "plt.title('Quadrant-wise Scatter Plot')\n",
        "\n",
        "# Adding a legend\n",
        "plt.legend(['First Quadrant', 'Second Quadrant', 'Third Quadrant', 'Fourth Quadrant'])\n",
        "\n",
        "# Showing the plot\n",
        "plt.show()\n"
      ],
      "metadata": {
        "colab": {
          "base_uri": "https://localhost:8080/",
          "height": 564
        },
        "id": "qvO0dindYF-9",
        "outputId": "ed47f282-e665-4d60-8f74-d4fcf5c01e74"
      },
      "execution_count": 34,
      "outputs": [
        {
          "output_type": "display_data",
          "data": {
            "text/plain": [
              "<Figure size 800x600 with 1 Axes>"
            ],
            "image/png": "[encoded data removed]"
          },
          "metadata": {}
        }
      ]
    },
    {
      "cell_type": "code",
      "source": [
        "'''\n",
        "18. With Bokeh, plot a line chart of a sine wave function, add grid lines, label the axes, and set the title as *Sine\n",
        "Wave Function'.'''\n",
        "\n",
        "\n",
        "from bokeh.plotting import figure, show\n",
        "import numpy as np\n",
        "\n",
        "# Create data for sine wave\n",
        "x = np.linspace(0, 4 * np.pi, 100)\n",
        "y = np.sin(x)\n",
        "\n",
        "# Create a Bokeh figure\n",
        "p = figure(title=\"Sine Wave Function\", x_axis_label=\"X-Axis\", y_axis_label=\"Y-Axis\",\n",
        "           width=800, height=400)\n",
        "\n",
        "# Plot a line representing the sine wave\n",
        "p.line(x, y, legend_label=\"Sine Wave\", line_width=2)\n",
        "\n",
        "# Add grid lines\n",
        "p.grid.grid_line_color = \"gray\"\n",
        "\n",
        "# Show the plot\n",
        "show(p)\n"
      ],
      "metadata": {
        "id": "ZnFp239uYQGM"
      },
      "execution_count": 35,
      "outputs": []
    },
    {
      "cell_type": "code",
      "source": [
        "df = pd.read_csv('/content/People Data.csv')"
      ],
      "metadata": {
        "id": "KVzzG2ukdYM0"
      },
      "execution_count": 48,
      "outputs": []
    },
    {
      "cell_type": "code",
      "source": [
        "'''\n",
        "19. Using Bokeh, generate a bar chart of randomly generated categorical data, color bars based on their\n",
        "values, add hover tooltips to display exact values, label the axes, and set the title as 'Random Categorical\n",
        "Bar Chart'.'''\n",
        "\n",
        "\n",
        "\n",
        "\n",
        "from bokeh.plotting import figure, show\n",
        "from bokeh.transform import factor_cmap\n",
        "from bokeh.models import ColumnDataSource, HoverTool\n",
        "import random\n",
        "\n",
        "# Random categorical data\n",
        "categories = [\"A\", \"B\", \"C\", \"D\", \"E\"]\n",
        "values = [random.randint(10, 100) for _ in categories]\n",
        "\n",
        "# Create a ColumnDataSource\n",
        "source = ColumnDataSource(data=dict(categories=categories, values=values))\n",
        "\n",
        "# Create a figure\n",
        "p = figure(x_range=categories, title=\"Random Categorical Bar Chart\",  x_axis_label=\"Categories\", y_axis_label=\"Values\")\n",
        "\n",
        "# Color bars based on values\n",
        "p.vbar(x=\"categories\", top=\"values\", width=0.9, source=source,\n",
        "       fill_color=factor_cmap(\"categories\", \"Viridis256\", factors=categories))\n",
        "\n",
        "# Add hover tooltips to display exact values\n",
        "hover = HoverTool()\n",
        "hover.tooltips = [(\"Category\", \"@categories\"), (\"Value\", \"@values\")]\n",
        "p.add_tools(hover)\n",
        "\n",
        "# Show the plot\n",
        "show(p)\n"
      ],
      "metadata": {
        "id": "6boRdHDEaGlN"
      },
      "execution_count": 50,
      "outputs": []
    },
    {
      "cell_type": "code",
      "source": [
        "'''\n",
        "20. Using Plotly, create a basic line plot of a randomly generated dataset, label the axes, and set the title as\n",
        "'Simple Line Plot'.'''\n",
        "\n",
        "\n",
        "\n",
        "import plotly.graph_objects as go\n",
        "import numpy as np\n",
        "\n",
        "# Randomly generated data\n",
        "x = np.arange(0, 10, 0.1)\n",
        "y = np.random.randn(len(x))\n",
        "\n",
        "# Create a line plot\n",
        "fig = go.Figure(data=go.Scatter(x=x, y=y, mode='lines', name='Random Data'))\n",
        "\n",
        "# Label axes and set title\n",
        "fig.update_layout(title=\"Simple Line Plot\", xaxis_title=\"X-Axis\", yaxis_title=\"Y-Axis\")\n",
        "\n",
        "# Show the plot\n",
        "fig.show()\n"
      ],
      "metadata": {
        "colab": {
          "base_uri": "https://localhost:8080/",
          "height": 542
        },
        "id": "kJUYyztdaL5B",
        "outputId": "f43a1f5a-3dca-48b1-8d04-214bf33f2cc1"
      },
      "execution_count": 37,
      "outputs": [
        {
          "output_type": "display_data",
          "data": {
            "text/html": [
              "<html>\n",
              "<head><meta charset=\"utf-8\" /></head>\n",
              "<body>\n",
              "    <div>            <script src=\"https://cdnjs.cloudflare.com/ajax/libs/mathjax/2.7.5/MathJax.js?config=TeX-AMS-MML_SVG\"></script><script type=\"text/javascript\">if (window.MathJax && window.MathJax.Hub && window.MathJax.Hub.Config) {window.MathJax.Hub.Config({SVG: {font: \"STIX-Web\"}});}</script>                <script type=\"text/javascript\">window.PlotlyConfig = {MathJaxConfig: 'local'};</script>\n",
              "        <script charset=\"utf-8\" src=\"https://cdn.plot.ly/plotly-2.24.1.min.js\"></script>                <div id=\"51d59b1e-cd2d-4f75-aa39-21b684a16db7\" class=\"plotly-graph-div\" style=\"height:525px; width:100%;\"></div>            <script type=\"text/javascript\">                                    window.PLOTLYENV=window.PLOTLYENV || {};                                    if (document.getElementById(\"51d59b1e-cd2d-4f75-aa39-21b684a16db7\")) {                    Plotly.newPlot(                        \"51d59b1e-cd2d-4f75-aa39-21b684a16db7\",                        [{\"mode\":\"lines\",\"name\":\"Random Data\",\"x\":[0.0,0.1,0.2,0.30000000000000004,0.4,0.5,0.6000000000000001,0.7000000000000001,0.8,0.9,1.0,1.1,1.2000000000000002,1.3,1.4000000000000001,1.5,1.6,1.7000000000000002,1.8,1.9000000000000001,2.0,2.1,2.2,2.3000000000000003,2.4000000000000004,2.5,2.6,2.7,2.8000000000000003,2.9000000000000004,3.0,3.1,3.2,3.3000000000000003,3.4000000000000004,3.5,3.6,3.7,3.8000000000000003,3.9000000000000004,4.0,4.1000000000000005,4.2,4.3,4.4,4.5,4.6000000000000005,4.7,4.800000000000001,4.9,5.0,5.1000000000000005,5.2,5.300000000000001,5.4,5.5,5.6000000000000005,5.7,5.800000000000001,5.9,6.0,6.1000000000000005,6.2,6.300000000000001,6.4,6.5,6.6000000000000005,6.7,6.800000000000001,6.9,7.0,7.1000000000000005,7.2,7.300000000000001,7.4,7.5,7.6000000000000005,7.7,7.800000000000001,7.9,8.0,8.1,8.200000000000001,8.3,8.4,8.5,8.6,8.700000000000001,8.8,8.9,9.0,9.1,9.200000000000001,9.3,9.4,9.5,9.600000000000001,9.700000000000001,9.8,9.9],\"y\":[1.5411501044714397,1.5573225826776251,0.5900235458569238,-0.20227371613169381,-1.023626828746351,0.480807307626134,-1.2507128991250605,0.8741851752452577,-0.11859853887883481,-0.14189076286855765,-0.3563148069239875,-0.13118473847561987,-1.4040415527126686,0.591172523574435,-0.7580962129905393,-0.7225610857277516,-1.7444610305427217,0.08626155140521119,0.2663923525338753,2.173354557249417,-1.126214783925764,0.2943578600876706,0.9257609866627132,1.7465962184444068,-0.23381556840396153,1.0138932861490704,0.436418890195685,0.33916600029712374,-1.5942810817611028,-0.08290248871363422,-0.5234061976904743,-0.7043539286051053,-0.19322857251746198,-0.07128339938788561,-0.736678838186921,-1.616536503111546,1.3979649570240709,1.1183338034456105,0.14238711988692535,-0.3230690447782835,1.5456809507897729,0.5475197389682314,-0.6543436102188304,1.3315569122889634,0.3072985493593632,-1.9960628940618805,-0.10753766539482042,-0.40456990813064725,-0.010283523491496036,-1.7842387936111603,-1.4770113883989593,1.3885980946661385,0.8901543982213115,2.0898564581323886,-0.20536641913477222,0.569480869959441,0.9370955307899124,0.1670975835184523,-1.1348585868271273,-0.007518783016517238,1.9663502380145643,1.1692148074436124,0.8191555221549008,0.4311130283173361,-0.2596729847236368,-0.9126212336153428,1.488528634235433,1.183141895752693,0.01804299763948131,3.1465392303254744,-0.804658939439809,-0.6288944820046792,0.285996235170847,-0.9298847882129674,-2.1422161698030227,0.5461798446227241,-0.44779649629642965,0.4954907142935194,0.21488395225007292,-0.8466576950693789,0.21166910024502134,0.2783289642371409,0.90766773186082,-0.48327005387947586,1.6334362476560258,1.8615534252726464,0.39916688478064444,-0.9861070493318577,-0.38739702652867375,1.3668052888330515,0.13063335559789335,-1.2296313011648325,0.4285642918962878,0.36363917168533666,0.9316221762283369,-1.0203155333119587,-0.34609886433137543,0.1983722349605535,1.637015035893595,-0.053432639774165784],\"type\":\"scatter\"}],                        {\"template\":{\"data\":{\"histogram2dcontour\":[{\"type\":\"histogram2dcontour\",\"colorbar\":{\"outlinewidth\":0,\"ticks\":\"\"},\"colorscale\":[[0.0,\"#0d0887\"],[0.1111111111111111,\"#46039f\"],[0.2222222222222222,\"#7201a8\"],[0.3333333333333333,\"#9c179e\"],[0.4444444444444444,\"#bd3786\"],[0.5555555555555556,\"#d8576b\"],[0.6666666666666666,\"#ed7953\"],[0.7777777777777778,\"#fb9f3a\"],[0.8888888888888888,\"#fdca26\"],[1.0,\"#f0f921\"]]}],\"choropleth\":[{\"type\":\"choropleth\",\"colorbar\":{\"outlinewidth\":0,\"ticks\":\"\"}}],\"histogram2d\":[{\"type\":\"histogram2d\",\"colorbar\":{\"outlinewidth\":0,\"ticks\":\"\"},\"colorscale\":[[0.0,\"#0d0887\"],[0.1111111111111111,\"#46039f\"],[0.2222222222222222,\"#7201a8\"],[0.3333333333333333,\"#9c179e\"],[0.4444444444444444,\"#bd3786\"],[0.5555555555555556,\"#d8576b\"],[0.6666666666666666,\"#ed7953\"],[0.7777777777777778,\"#fb9f3a\"],[0.8888888888888888,\"#fdca26\"],[1.0,\"#f0f921\"]]}],\"heatmap\":[{\"type\":\"heatmap\",\"colorbar\":{\"outlinewidth\":0,\"ticks\":\"\"},\"colorscale\":[[0.0,\"#0d0887\"],[0.1111111111111111,\"#46039f\"],[0.2222222222222222,\"#7201a8\"],[0.3333333333333333,\"#9c179e\"],[0.4444444444444444,\"#bd3786\"],[0.5555555555555556,\"#d8576b\"],[0.6666666666666666,\"#ed7953\"],[0.7777777777777778,\"#fb9f3a\"],[0.8888888888888888,\"#fdca26\"],[1.0,\"#f0f921\"]]}],\"heatmapgl\":[{\"type\":\"heatmapgl\",\"colorbar\":{\"outlinewidth\":0,\"ticks\":\"\"},\"colorscale\":[[0.0,\"#0d0887\"],[0.1111111111111111,\"#46039f\"],[0.2222222222222222,\"#7201a8\"],[0.3333333333333333,\"#9c179e\"],[0.4444444444444444,\"#bd3786\"],[0.5555555555555556,\"#d8576b\"],[0.6666666666666666,\"#ed7953\"],[0.7777777777777778,\"#fb9f3a\"],[0.8888888888888888,\"#fdca26\"],[1.0,\"#f0f921\"]]}],\"contourcarpet\":[{\"type\":\"contourcarpet\",\"colorbar\":{\"outlinewidth\":0,\"ticks\":\"\"}}],\"contour\":[{\"type\":\"contour\",\"colorbar\":{\"outlinewidth\":0,\"ticks\":\"\"},\"colorscale\":[[0.0,\"#0d0887\"],[0.1111111111111111,\"#46039f\"],[0.2222222222222222,\"#7201a8\"],[0.3333333333333333,\"#9c179e\"],[0.4444444444444444,\"#bd3786\"],[0.5555555555555556,\"#d8576b\"],[0.6666666666666666,\"#ed7953\"],[0.7777777777777778,\"#fb9f3a\"],[0.8888888888888888,\"#fdca26\"],[1.0,\"#f0f921\"]]}],\"surface\":[{\"type\":\"surface\",\"colorbar\":{\"outlinewidth\":0,\"ticks\":\"\"},\"colorscale\":[[0.0,\"#0d0887\"],[0.1111111111111111,\"#46039f\"],[0.2222222222222222,\"#7201a8\"],[0.3333333333333333,\"#9c179e\"],[0.4444444444444444,\"#bd3786\"],[0.5555555555555556,\"#d8576b\"],[0.6666666666666666,\"#ed7953\"],[0.7777777777777778,\"#fb9f3a\"],[0.8888888888888888,\"#fdca26\"],[1.0,\"#f0f921\"]]}],\"mesh3d\":[{\"type\":\"mesh3d\",\"colorbar\":{\"outlinewidth\":0,\"ticks\":\"\"}}],\"scatter\":[{\"fillpattern\":{\"fillmode\":\"overlay\",\"size\":10,\"solidity\":0.2},\"type\":\"scatter\"}],\"parcoords\":[{\"type\":\"parcoords\",\"line\":{\"colorbar\":{\"outlinewidth\":0,\"ticks\":\"\"}}}],\"scatterpolargl\":[{\"type\":\"scatterpolargl\",\"marker\":{\"colorbar\":{\"outlinewidth\":0,\"ticks\":\"\"}}}],\"bar\":[{\"error_x\":{\"color\":\"#2a3f5f\"},\"error_y\":{\"color\":\"#2a3f5f\"},\"marker\":{\"line\":{\"color\":\"#E5ECF6\",\"width\":0.5},\"pattern\":{\"fillmode\":\"overlay\",\"size\":10,\"solidity\":0.2}},\"type\":\"bar\"}],\"scattergeo\":[{\"type\":\"scattergeo\",\"marker\":{\"colorbar\":{\"outlinewidth\":0,\"ticks\":\"\"}}}],\"scatterpolar\":[{\"type\":\"scatterpolar\",\"marker\":{\"colorbar\":{\"outlinewidth\":0,\"ticks\":\"\"}}}],\"histogram\":[{\"marker\":{\"pattern\":{\"fillmode\":\"overlay\",\"size\":10,\"solidity\":0.2}},\"type\":\"histogram\"}],\"scattergl\":[{\"type\":\"scattergl\",\"marker\":{\"colorbar\":{\"outlinewidth\":0,\"ticks\":\"\"}}}],\"scatter3d\":[{\"type\":\"scatter3d\",\"line\":{\"colorbar\":{\"outlinewidth\":0,\"ticks\":\"\"}},\"marker\":{\"colorbar\":{\"outlinewidth\":0,\"ticks\":\"\"}}}],\"scattermapbox\":[{\"type\":\"scattermapbox\",\"marker\":{\"colorbar\":{\"outlinewidth\":0,\"ticks\":\"\"}}}],\"scatterternary\":[{\"type\":\"scatterternary\",\"marker\":{\"colorbar\":{\"outlinewidth\":0,\"ticks\":\"\"}}}],\"scattercarpet\":[{\"type\":\"scattercarpet\",\"marker\":{\"colorbar\":{\"outlinewidth\":0,\"ticks\":\"\"}}}],\"carpet\":[{\"aaxis\":{\"endlinecolor\":\"#2a3f5f\",\"gridcolor\":\"white\",\"linecolor\":\"white\",\"minorgridcolor\":\"white\",\"startlinecolor\":\"#2a3f5f\"},\"baxis\":{\"endlinecolor\":\"#2a3f5f\",\"gridcolor\":\"white\",\"linecolor\":\"white\",\"minorgridcolor\":\"white\",\"startlinecolor\":\"#2a3f5f\"},\"type\":\"carpet\"}],\"table\":[{\"cells\":{\"fill\":{\"color\":\"#EBF0F8\"},\"line\":{\"color\":\"white\"}},\"header\":{\"fill\":{\"color\":\"#C8D4E3\"},\"line\":{\"color\":\"white\"}},\"type\":\"table\"}],\"barpolar\":[{\"marker\":{\"line\":{\"color\":\"#E5ECF6\",\"width\":0.5},\"pattern\":{\"fillmode\":\"overlay\",\"size\":10,\"solidity\":0.2}},\"type\":\"barpolar\"}],\"pie\":[{\"automargin\":true,\"type\":\"pie\"}]},\"layout\":{\"autotypenumbers\":\"strict\",\"colorway\":[\"#636efa\",\"#EF553B\",\"#00cc96\",\"#ab63fa\",\"#FFA15A\",\"#19d3f3\",\"#FF6692\",\"#B6E880\",\"#FF97FF\",\"#FECB52\"],\"font\":{\"color\":\"#2a3f5f\"},\"hovermode\":\"closest\",\"hoverlabel\":{\"align\":\"left\"},\"paper_bgcolor\":\"white\",\"plot_bgcolor\":\"#E5ECF6\",\"polar\":{\"bgcolor\":\"#E5ECF6\",\"angularaxis\":{\"gridcolor\":\"white\",\"linecolor\":\"white\",\"ticks\":\"\"},\"radialaxis\":{\"gridcolor\":\"white\",\"linecolor\":\"white\",\"ticks\":\"\"}},\"ternary\":{\"bgcolor\":\"#E5ECF6\",\"aaxis\":{\"gridcolor\":\"white\",\"linecolor\":\"white\",\"ticks\":\"\"},\"baxis\":{\"gridcolor\":\"white\",\"linecolor\":\"white\",\"ticks\":\"\"},\"caxis\":{\"gridcolor\":\"white\",\"linecolor\":\"white\",\"ticks\":\"\"}},\"coloraxis\":{\"colorbar\":{\"outlinewidth\":0,\"ticks\":\"\"}},\"colorscale\":{\"sequential\":[[0.0,\"#0d0887\"],[0.1111111111111111,\"#46039f\"],[0.2222222222222222,\"#7201a8\"],[0.3333333333333333,\"#9c179e\"],[0.4444444444444444,\"#bd3786\"],[0.5555555555555556,\"#d8576b\"],[0.6666666666666666,\"#ed7953\"],[0.7777777777777778,\"#fb9f3a\"],[0.8888888888888888,\"#fdca26\"],[1.0,\"#f0f921\"]],\"sequentialminus\":[[0.0,\"#0d0887\"],[0.1111111111111111,\"#46039f\"],[0.2222222222222222,\"#7201a8\"],[0.3333333333333333,\"#9c179e\"],[0.4444444444444444,\"#bd3786\"],[0.5555555555555556,\"#d8576b\"],[0.6666666666666666,\"#ed7953\"],[0.7777777777777778,\"#fb9f3a\"],[0.8888888888888888,\"#fdca26\"],[1.0,\"#f0f921\"]],\"diverging\":[[0,\"#8e0152\"],[0.1,\"#c51b7d\"],[0.2,\"#de77ae\"],[0.3,\"#f1b6da\"],[0.4,\"#fde0ef\"],[0.5,\"#f7f7f7\"],[0.6,\"#e6f5d0\"],[0.7,\"#b8e186\"],[0.8,\"#7fbc41\"],[0.9,\"#4d9221\"],[1,\"#276419\"]]},\"xaxis\":{\"gridcolor\":\"white\",\"linecolor\":\"white\",\"ticks\":\"\",\"title\":{\"standoff\":15},\"zerolinecolor\":\"white\",\"automargin\":true,\"zerolinewidth\":2},\"yaxis\":{\"gridcolor\":\"white\",\"linecolor\":\"white\",\"ticks\":\"\",\"title\":{\"standoff\":15},\"zerolinecolor\":\"white\",\"automargin\":true,\"zerolinewidth\":2},\"scene\":{\"xaxis\":{\"backgroundcolor\":\"#E5ECF6\",\"gridcolor\":\"white\",\"linecolor\":\"white\",\"showbackground\":true,\"ticks\":\"\",\"zerolinecolor\":\"white\",\"gridwidth\":2},\"yaxis\":{\"backgroundcolor\":\"#E5ECF6\",\"gridcolor\":\"white\",\"linecolor\":\"white\",\"showbackground\":true,\"ticks\":\"\",\"zerolinecolor\":\"white\",\"gridwidth\":2},\"zaxis\":{\"backgroundcolor\":\"#E5ECF6\",\"gridcolor\":\"white\",\"linecolor\":\"white\",\"showbackground\":true,\"ticks\":\"\",\"zerolinecolor\":\"white\",\"gridwidth\":2}},\"shapedefaults\":{\"line\":{\"color\":\"#2a3f5f\"}},\"annotationdefaults\":{\"arrowcolor\":\"#2a3f5f\",\"arrowhead\":0,\"arrowwidth\":1},\"geo\":{\"bgcolor\":\"white\",\"landcolor\":\"#E5ECF6\",\"subunitcolor\":\"white\",\"showland\":true,\"showlakes\":true,\"lakecolor\":\"white\"},\"title\":{\"x\":0.05},\"mapbox\":{\"style\":\"light\"}}},\"title\":{\"text\":\"Simple Line Plot\"},\"xaxis\":{\"title\":{\"text\":\"X-Axis\"}},\"yaxis\":{\"title\":{\"text\":\"Y-Axis\"}}},                        {\"responsive\": true}                    ).then(function(){\n",
              "                            \n",
              "var gd = document.getElementById('51d59b1e-cd2d-4f75-aa39-21b684a16db7');\n",
              "var x = new MutationObserver(function (mutations, observer) {{\n",
              "        var display = window.getComputedStyle(gd).display;\n",
              "        if (!display || display === 'none') {{\n",
              "            console.log([gd, 'removed!']);\n",
              "            Plotly.purge(gd);\n",
              "            observer.disconnect();\n",
              "        }}\n",
              "}});\n",
              "\n",
              "// Listen for the removal of the full notebook cells\n",
              "var notebookContainer = gd.closest('#notebook-container');\n",
              "if (notebookContainer) {{\n",
              "    x.observe(notebookContainer, {childList: true});\n",
              "}}\n",
              "\n",
              "// Listen for the clearing of the current output cell\n",
              "var outputEl = gd.closest('.output');\n",
              "if (outputEl) {{\n",
              "    x.observe(outputEl, {childList: true});\n",
              "}}\n",
              "\n",
              "                        })                };                            </script>        </div>\n",
              "</body>\n",
              "</html>"
            ]
          },
          "metadata": {}
        }
      ]
    },
    {
      "cell_type": "code",
      "source": [
        "'''\n",
        "21. Using Plotly, create an interactive pie chart of randomly generated data, add labels and percentages, set\n",
        "the title as 'Interactive Pie Chart'.'''\n",
        "\n",
        "\n",
        "\n",
        "\n",
        "import plotly.graph_objects as go\n",
        "import random\n",
        "\n",
        "# Randomly generated data\n",
        "labels = ['Category A', 'Category B', 'Category C', 'Category D']\n",
        "values = [random.randint(10, 100) for _ in labels]\n",
        "\n",
        "# Create a pie chart\n",
        "fig = go.Figure(data=[go.Pie(labels=labels, values=values, hoverinfo='label+percent', textinfo='value')])\n",
        "\n",
        "# Set title\n",
        "fig.update_layout(title_text='Interactive Pie Chart')\n",
        "\n",
        "# Show the plot\n",
        "fig.show()\n"
      ],
      "metadata": {
        "colab": {
          "base_uri": "https://localhost:8080/",
          "height": 542
        },
        "id": "au5hiYtAaOqk",
        "outputId": "f4dab7d1-efc7-4ac4-cbc0-11fd9008c301"
      },
      "execution_count": 38,
      "outputs": [
        {
          "output_type": "display_data",
          "data": {
            "text/html": [
              "<html>\n",
              "<head><meta charset=\"utf-8\" /></head>\n",
              "<body>\n",
              "    <div>            <script src=\"https://cdnjs.cloudflare.com/ajax/libs/mathjax/2.7.5/MathJax.js?config=TeX-AMS-MML_SVG\"></script><script type=\"text/javascript\">if (window.MathJax && window.MathJax.Hub && window.MathJax.Hub.Config) {window.MathJax.Hub.Config({SVG: {font: \"STIX-Web\"}});}</script>                <script type=\"text/javascript\">window.PlotlyConfig = {MathJaxConfig: 'local'};</script>\n",
              "        <script charset=\"utf-8\" src=\"https://cdn.plot.ly/plotly-2.24.1.min.js\"></script>                <div id=\"dccfd3d4-457e-435a-a519-de889e182525\" class=\"plotly-graph-div\" style=\"height:525px; width:100%;\"></div>            <script type=\"text/javascript\">                                    window.PLOTLYENV=window.PLOTLYENV || {};                                    if (document.getElementById(\"dccfd3d4-457e-435a-a519-de889e182525\")) {                    Plotly.newPlot(                        \"dccfd3d4-457e-435a-a519-de889e182525\",                        [{\"hoverinfo\":\"label+percent\",\"labels\":[\"Category A\",\"Category B\",\"Category C\",\"Category D\"],\"textinfo\":\"value\",\"values\":[25,43,28,12],\"type\":\"pie\"}],                        {\"template\":{\"data\":{\"histogram2dcontour\":[{\"type\":\"histogram2dcontour\",\"colorbar\":{\"outlinewidth\":0,\"ticks\":\"\"},\"colorscale\":[[0.0,\"#0d0887\"],[0.1111111111111111,\"#46039f\"],[0.2222222222222222,\"#7201a8\"],[0.3333333333333333,\"#9c179e\"],[0.4444444444444444,\"#bd3786\"],[0.5555555555555556,\"#d8576b\"],[0.6666666666666666,\"#ed7953\"],[0.7777777777777778,\"#fb9f3a\"],[0.8888888888888888,\"#fdca26\"],[1.0,\"#f0f921\"]]}],\"choropleth\":[{\"type\":\"choropleth\",\"colorbar\":{\"outlinewidth\":0,\"ticks\":\"\"}}],\"histogram2d\":[{\"type\":\"histogram2d\",\"colorbar\":{\"outlinewidth\":0,\"ticks\":\"\"},\"colorscale\":[[0.0,\"#0d0887\"],[0.1111111111111111,\"#46039f\"],[0.2222222222222222,\"#7201a8\"],[0.3333333333333333,\"#9c179e\"],[0.4444444444444444,\"#bd3786\"],[0.5555555555555556,\"#d8576b\"],[0.6666666666666666,\"#ed7953\"],[0.7777777777777778,\"#fb9f3a\"],[0.8888888888888888,\"#fdca26\"],[1.0,\"#f0f921\"]]}],\"heatmap\":[{\"type\":\"heatmap\",\"colorbar\":{\"outlinewidth\":0,\"ticks\":\"\"},\"colorscale\":[[0.0,\"#0d0887\"],[0.1111111111111111,\"#46039f\"],[0.2222222222222222,\"#7201a8\"],[0.3333333333333333,\"#9c179e\"],[0.4444444444444444,\"#bd3786\"],[0.5555555555555556,\"#d8576b\"],[0.6666666666666666,\"#ed7953\"],[0.7777777777777778,\"#fb9f3a\"],[0.8888888888888888,\"#fdca26\"],[1.0,\"#f0f921\"]]}],\"heatmapgl\":[{\"type\":\"heatmapgl\",\"colorbar\":{\"outlinewidth\":0,\"ticks\":\"\"},\"colorscale\":[[0.0,\"#0d0887\"],[0.1111111111111111,\"#46039f\"],[0.2222222222222222,\"#7201a8\"],[0.3333333333333333,\"#9c179e\"],[0.4444444444444444,\"#bd3786\"],[0.5555555555555556,\"#d8576b\"],[0.6666666666666666,\"#ed7953\"],[0.7777777777777778,\"#fb9f3a\"],[0.8888888888888888,\"#fdca26\"],[1.0,\"#f0f921\"]]}],\"contourcarpet\":[{\"type\":\"contourcarpet\",\"colorbar\":{\"outlinewidth\":0,\"ticks\":\"\"}}],\"contour\":[{\"type\":\"contour\",\"colorbar\":{\"outlinewidth\":0,\"ticks\":\"\"},\"colorscale\":[[0.0,\"#0d0887\"],[0.1111111111111111,\"#46039f\"],[0.2222222222222222,\"#7201a8\"],[0.3333333333333333,\"#9c179e\"],[0.4444444444444444,\"#bd3786\"],[0.5555555555555556,\"#d8576b\"],[0.6666666666666666,\"#ed7953\"],[0.7777777777777778,\"#fb9f3a\"],[0.8888888888888888,\"#fdca26\"],[1.0,\"#f0f921\"]]}],\"surface\":[{\"type\":\"surface\",\"colorbar\":{\"outlinewidth\":0,\"ticks\":\"\"},\"colorscale\":[[0.0,\"#0d0887\"],[0.1111111111111111,\"#46039f\"],[0.2222222222222222,\"#7201a8\"],[0.3333333333333333,\"#9c179e\"],[0.4444444444444444,\"#bd3786\"],[0.5555555555555556,\"#d8576b\"],[0.6666666666666666,\"#ed7953\"],[0.7777777777777778,\"#fb9f3a\"],[0.8888888888888888,\"#fdca26\"],[1.0,\"#f0f921\"]]}],\"mesh3d\":[{\"type\":\"mesh3d\",\"colorbar\":{\"outlinewidth\":0,\"ticks\":\"\"}}],\"scatter\":[{\"fillpattern\":{\"fillmode\":\"overlay\",\"size\":10,\"solidity\":0.2},\"type\":\"scatter\"}],\"parcoords\":[{\"type\":\"parcoords\",\"line\":{\"colorbar\":{\"outlinewidth\":0,\"ticks\":\"\"}}}],\"scatterpolargl\":[{\"type\":\"scatterpolargl\",\"marker\":{\"colorbar\":{\"outlinewidth\":0,\"ticks\":\"\"}}}],\"bar\":[{\"error_x\":{\"color\":\"#2a3f5f\"},\"error_y\":{\"color\":\"#2a3f5f\"},\"marker\":{\"line\":{\"color\":\"#E5ECF6\",\"width\":0.5},\"pattern\":{\"fillmode\":\"overlay\",\"size\":10,\"solidity\":0.2}},\"type\":\"bar\"}],\"scattergeo\":[{\"type\":\"scattergeo\",\"marker\":{\"colorbar\":{\"outlinewidth\":0,\"ticks\":\"\"}}}],\"scatterpolar\":[{\"type\":\"scatterpolar\",\"marker\":{\"colorbar\":{\"outlinewidth\":0,\"ticks\":\"\"}}}],\"histogram\":[{\"marker\":{\"pattern\":{\"fillmode\":\"overlay\",\"size\":10,\"solidity\":0.2}},\"type\":\"histogram\"}],\"scattergl\":[{\"type\":\"scattergl\",\"marker\":{\"colorbar\":{\"outlinewidth\":0,\"ticks\":\"\"}}}],\"scatter3d\":[{\"type\":\"scatter3d\",\"line\":{\"colorbar\":{\"outlinewidth\":0,\"ticks\":\"\"}},\"marker\":{\"colorbar\":{\"outlinewidth\":0,\"ticks\":\"\"}}}],\"scattermapbox\":[{\"type\":\"scattermapbox\",\"marker\":{\"colorbar\":{\"outlinewidth\":0,\"ticks\":\"\"}}}],\"scatterternary\":[{\"type\":\"scatterternary\",\"marker\":{\"colorbar\":{\"outlinewidth\":0,\"ticks\":\"\"}}}],\"scattercarpet\":[{\"type\":\"scattercarpet\",\"marker\":{\"colorbar\":{\"outlinewidth\":0,\"ticks\":\"\"}}}],\"carpet\":[{\"aaxis\":{\"endlinecolor\":\"#2a3f5f\",\"gridcolor\":\"white\",\"linecolor\":\"white\",\"minorgridcolor\":\"white\",\"startlinecolor\":\"#2a3f5f\"},\"baxis\":{\"endlinecolor\":\"#2a3f5f\",\"gridcolor\":\"white\",\"linecolor\":\"white\",\"minorgridcolor\":\"white\",\"startlinecolor\":\"#2a3f5f\"},\"type\":\"carpet\"}],\"table\":[{\"cells\":{\"fill\":{\"color\":\"#EBF0F8\"},\"line\":{\"color\":\"white\"}},\"header\":{\"fill\":{\"color\":\"#C8D4E3\"},\"line\":{\"color\":\"white\"}},\"type\":\"table\"}],\"barpolar\":[{\"marker\":{\"line\":{\"color\":\"#E5ECF6\",\"width\":0.5},\"pattern\":{\"fillmode\":\"overlay\",\"size\":10,\"solidity\":0.2}},\"type\":\"barpolar\"}],\"pie\":[{\"automargin\":true,\"type\":\"pie\"}]},\"layout\":{\"autotypenumbers\":\"strict\",\"colorway\":[\"#636efa\",\"#EF553B\",\"#00cc96\",\"#ab63fa\",\"#FFA15A\",\"#19d3f3\",\"#FF6692\",\"#B6E880\",\"#FF97FF\",\"#FECB52\"],\"font\":{\"color\":\"#2a3f5f\"},\"hovermode\":\"closest\",\"hoverlabel\":{\"align\":\"left\"},\"paper_bgcolor\":\"white\",\"plot_bgcolor\":\"#E5ECF6\",\"polar\":{\"bgcolor\":\"#E5ECF6\",\"angularaxis\":{\"gridcolor\":\"white\",\"linecolor\":\"white\",\"ticks\":\"\"},\"radialaxis\":{\"gridcolor\":\"white\",\"linecolor\":\"white\",\"ticks\":\"\"}},\"ternary\":{\"bgcolor\":\"#E5ECF6\",\"aaxis\":{\"gridcolor\":\"white\",\"linecolor\":\"white\",\"ticks\":\"\"},\"baxis\":{\"gridcolor\":\"white\",\"linecolor\":\"white\",\"ticks\":\"\"},\"caxis\":{\"gridcolor\":\"white\",\"linecolor\":\"white\",\"ticks\":\"\"}},\"coloraxis\":{\"colorbar\":{\"outlinewidth\":0,\"ticks\":\"\"}},\"colorscale\":{\"sequential\":[[0.0,\"#0d0887\"],[0.1111111111111111,\"#46039f\"],[0.2222222222222222,\"#7201a8\"],[0.3333333333333333,\"#9c179e\"],[0.4444444444444444,\"#bd3786\"],[0.5555555555555556,\"#d8576b\"],[0.6666666666666666,\"#ed7953\"],[0.7777777777777778,\"#fb9f3a\"],[0.8888888888888888,\"#fdca26\"],[1.0,\"#f0f921\"]],\"sequentialminus\":[[0.0,\"#0d0887\"],[0.1111111111111111,\"#46039f\"],[0.2222222222222222,\"#7201a8\"],[0.3333333333333333,\"#9c179e\"],[0.4444444444444444,\"#bd3786\"],[0.5555555555555556,\"#d8576b\"],[0.6666666666666666,\"#ed7953\"],[0.7777777777777778,\"#fb9f3a\"],[0.8888888888888888,\"#fdca26\"],[1.0,\"#f0f921\"]],\"diverging\":[[0,\"#8e0152\"],[0.1,\"#c51b7d\"],[0.2,\"#de77ae\"],[0.3,\"#f1b6da\"],[0.4,\"#fde0ef\"],[0.5,\"#f7f7f7\"],[0.6,\"#e6f5d0\"],[0.7,\"#b8e186\"],[0.8,\"#7fbc41\"],[0.9,\"#4d9221\"],[1,\"#276419\"]]},\"xaxis\":{\"gridcolor\":\"white\",\"linecolor\":\"white\",\"ticks\":\"\",\"title\":{\"standoff\":15},\"zerolinecolor\":\"white\",\"automargin\":true,\"zerolinewidth\":2},\"yaxis\":{\"gridcolor\":\"white\",\"linecolor\":\"white\",\"ticks\":\"\",\"title\":{\"standoff\":15},\"zerolinecolor\":\"white\",\"automargin\":true,\"zerolinewidth\":2},\"scene\":{\"xaxis\":{\"backgroundcolor\":\"#E5ECF6\",\"gridcolor\":\"white\",\"linecolor\":\"white\",\"showbackground\":true,\"ticks\":\"\",\"zerolinecolor\":\"white\",\"gridwidth\":2},\"yaxis\":{\"backgroundcolor\":\"#E5ECF6\",\"gridcolor\":\"white\",\"linecolor\":\"white\",\"showbackground\":true,\"ticks\":\"\",\"zerolinecolor\":\"white\",\"gridwidth\":2},\"zaxis\":{\"backgroundcolor\":\"#E5ECF6\",\"gridcolor\":\"white\",\"linecolor\":\"white\",\"showbackground\":true,\"ticks\":\"\",\"zerolinecolor\":\"white\",\"gridwidth\":2}},\"shapedefaults\":{\"line\":{\"color\":\"#2a3f5f\"}},\"annotationdefaults\":{\"arrowcolor\":\"#2a3f5f\",\"arrowhead\":0,\"arrowwidth\":1},\"geo\":{\"bgcolor\":\"white\",\"landcolor\":\"#E5ECF6\",\"subunitcolor\":\"white\",\"showland\":true,\"showlakes\":true,\"lakecolor\":\"white\"},\"title\":{\"x\":0.05},\"mapbox\":{\"style\":\"light\"}}},\"title\":{\"text\":\"Interactive Pie Chart\"}},                        {\"responsive\": true}                    ).then(function(){\n",
              "                            \n",
              "var gd = document.getElementById('dccfd3d4-457e-435a-a519-de889e182525');\n",
              "var x = new MutationObserver(function (mutations, observer) {{\n",
              "        var display = window.getComputedStyle(gd).display;\n",
              "        if (!display || display === 'none') {{\n",
              "            console.log([gd, 'removed!']);\n",
              "            Plotly.purge(gd);\n",
              "            observer.disconnect();\n",
              "        }}\n",
              "}});\n",
              "\n",
              "// Listen for the removal of the full notebook cells\n",
              "var notebookContainer = gd.closest('#notebook-container');\n",
              "if (notebookContainer) {{\n",
              "    x.observe(notebookContainer, {childList: true});\n",
              "}}\n",
              "\n",
              "// Listen for the clearing of the current output cell\n",
              "var outputEl = gd.closest('.output');\n",
              "if (outputEl) {{\n",
              "    x.observe(outputEl, {childList: true});\n",
              "}}\n",
              "\n",
              "                        })                };                            </script>        </div>\n",
              "</body>\n",
              "</html>"
            ]
          },
          "metadata": {}
        }
      ]
    },
    {
      "cell_type": "code",
      "source": [],
      "metadata": {
        "id": "z0xS9hC2aRtt"
      },
      "execution_count": 39,
      "outputs": []
    }
  ]
}